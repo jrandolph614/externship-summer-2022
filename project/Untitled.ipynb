{
 "cells": [
  {
   "cell_type": "code",
   "execution_count": 1,
   "id": "b5479abb-f1a9-4403-b147-7fc20f02cb37",
   "metadata": {},
   "outputs": [],
   "source": [
    "#this code only works for hashtags; most keywords that you would search have too many results for this code to run\n",
    "\n",
    "from congfig import * \n",
    "import pandas as pd\n",
    "import tweepy\n",
    "import time\n",
    "import numpy as np\n",
    "#swap these for your information, found on twitter api\n",
    "\n",
    "#API\n",
    "consumer_key = API_KEY\n",
    "#API Secret\n",
    "consumer_secret = API_SECRET\n",
    "#Token\n",
    "access_key = ACCESS_TOKEN\n",
    "#Token Secret\n",
    "access_secret= ACCESS_SECRET\n",
    "#Bearer\n",
    "bearer_token = BEARER\n",
    "auth = tweepy.OAuthHandler(consumer_key, consumer_secret)\n",
    "auth.set_access_token(access_key, access_secret)\n",
    "api = tweepy.API(auth)\n",
    "#swap for your bearer token\n",
    "client = tweepy.Client(bearer_token)\n",
    "#test to see if you can scrape\n",
    "\n",
    "query = ['#Springfield #kilograms']\n",
    "start_time ='2017-01-01T00:00:00Z'\n",
    "end_time = '2022-04-01T00:00:00Z'\n",
    "for tweet in tweepy.Paginator(client.search_all_tweets, query=query,tweet_fields = ['context_annotations', 'created_at'], start_time=start_time, end_time=end_time, max_results=100).flatten(limit=1000):\n",
    "    print(str(tweet.text) + str(tweet.created_at))"
   ]
  },
  {
   "cell_type": "code",
   "execution_count": null,
   "id": "3d082fce-a4a8-4b2c-8bb4-58cc51643bee",
   "metadata": {},
   "outputs": [],
   "source": []
  }
 ],
 "metadata": {
  "kernelspec": {
   "display_name": "Python 3 (ipykernel)",
   "language": "python",
   "name": "python3"
  },
  "language_info": {
   "codemirror_mode": {
    "name": "ipython",
    "version": 3
   },
   "file_extension": ".py",
   "mimetype": "text/x-python",
   "name": "python",
   "nbconvert_exporter": "python",
   "pygments_lexer": "ipython3",
   "version": "3.8.13"
  }
 },
 "nbformat": 4,
 "nbformat_minor": 5
}
