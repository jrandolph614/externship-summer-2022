{
 "cells": [
  {
   "cell_type": "code",
   "execution_count": 99,
   "id": "00e41704-f022-41cb-8edc-b9fc9d7a9d3e",
   "metadata": {},
   "outputs": [],
   "source": [
    "import pandas as pd \n",
    "import numpy as np\n",
    "import matplotlib.pyplot as plt\n",
    "import seaborn as sns\n",
    "hashtags = pd.read_csv('data/Hashtags.csv', header=0)\n",
    "location = list(hashtags[~hashtags['1'].isna()]['1'])\n",
    "content = list(hashtags[~hashtags['2'].isna()]['2'])\n",
    "df = pd.read_csv('data/results.csv',index_col=0)\n",
    "df= df[['text','clean_text','date','hashtags','websites','phone_numbers','area_code','state','country_code','lat','lng','suspicion']]\n",
    "df['hashtags']=df['hashtags'].str.lower()\n",
    "df['hashtags']= df['hashtags'].astype(str)\n",
    "df.reset_index(inplace=True,drop=True)"
   ]
  },
  {
   "cell_type": "code",
   "execution_count": 100,
   "id": "0423adb3-875a-4586-a973-e58c6cded7f3",
   "metadata": {},
   "outputs": [],
   "source": [
    "def addHashtags(string):\n",
    "    if str(string) != 'nan':\n",
    "        return '#'+str(string)\n",
    "def location(row):\n",
    "    temp = row['hashtags'].split()\n",
    "    res = [word for word in temp if word in list(hashtags['1'])]\n",
    "    return ' '.join(res)\n",
    "def explicit(row):\n",
    "    temp = row['hashtags'].split()\n",
    "    res = [word for word in temp if word in list(hashtags['2'])]\n",
    "    return ' '.join(res)"
   ]
  },
  {
   "cell_type": "code",
   "execution_count": 101,
   "id": "29acf0a1-cfb4-453e-b157-26b67e87b6ef",
   "metadata": {},
   "outputs": [],
   "source": [
    "hashtags['1'] = hashtags['1'].apply(addHashtags)\n",
    "hashtags['1'] = hashtags['1'].str.lower()\n",
    "hashtags['2'] = hashtags['2'].apply(addHashtags)\n",
    "hashtags['2'] = hashtags['2'].str.lower()"
   ]
  },
  {
   "cell_type": "code",
   "execution_count": 102,
   "id": "98486fec-b988-4366-a011-19ea9cad9df0",
   "metadata": {},
   "outputs": [],
   "source": [
    "df['location']=df.apply(location,axis=1)\n",
    "df['explicit']=df.apply(explicit,axis=1)"
   ]
  },
  {
   "cell_type": "code",
   "execution_count": null,
   "id": "63e54d87-06c3-4db5-bd8c-555b8624f513",
   "metadata": {},
   "outputs": [],
   "source": []
  }
 ],
 "metadata": {
  "kernelspec": {
   "display_name": "Python 3 (ipykernel)",
   "language": "python",
   "name": "python3"
  },
  "language_info": {
   "codemirror_mode": {
    "name": "ipython",
    "version": 3
   },
   "file_extension": ".py",
   "mimetype": "text/x-python",
   "name": "python",
   "nbconvert_exporter": "python",
   "pygments_lexer": "ipython3",
   "version": "3.8.13"
  }
 },
 "nbformat": 4,
 "nbformat_minor": 5
}
