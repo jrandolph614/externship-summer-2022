{
 "cells": [
  {
   "cell_type": "code",
   "execution_count": 111,
   "id": "00e41704-f022-41cb-8edc-b9fc9d7a9d3e",
   "metadata": {},
   "outputs": [],
   "source": [
    "import pandas as pd \n",
    "import numpy as np\n",
    "import matplotlib.pyplot as plt\n",
    "import seaborn as sns\n",
    "hashtags = pd.read_csv('data/Hashtags.csv', header=0)\n",
    "location = list(hashtags[~hashtags['1'].isna()]['1'])\n",
    "content = list(hashtags[~hashtags['2'].isna()]['2'])\n",
    "df = pd.read_csv('data/results.csv',index_col=0)\n",
    "self_training = pd.read_csv('data/self_training_result.csv',index_col=0)\n",
    "df= df[['text','clean_text','date','hashtags','websites','phone_numbers','area_code','state','country_code','lat','lng','suspicion']]\n",
    "df['hashtags']=df['hashtags'].str.lower()\n",
    "df['hashtags']= df['hashtags'].astype(str)\n",
    "df.reset_index(inplace=True,drop=True)"
   ]
  },
  {
   "cell_type": "code",
   "execution_count": 112,
   "id": "0423adb3-875a-4586-a973-e58c6cded7f3",
   "metadata": {},
   "outputs": [],
   "source": [
    "def addHashtags(string):\n",
    "    if str(string) != 'nan':\n",
    "        return '#'+str(string)\n",
    "def location(row):\n",
    "    temp = row['hashtags'].split()\n",
    "    res = [word for word in temp if word in list(hashtags['1'])]\n",
    "    return ' '.join(res)\n",
    "def explicit(row):\n",
    "    temp = row['hashtags'].split()\n",
    "    res = [word for word in temp if word in list(hashtags['2'])]\n",
    "    return ' '.join(res)"
   ]
  },
  {
   "cell_type": "code",
   "execution_count": 113,
   "id": "29acf0a1-cfb4-453e-b157-26b67e87b6ef",
   "metadata": {},
   "outputs": [],
   "source": [
    "hashtags['1'] = hashtags['1'].apply(addHashtags)\n",
    "hashtags['1'] = hashtags['1'].str.lower()\n",
    "hashtags['2'] = hashtags['2'].apply(addHashtags)\n",
    "hashtags['2'] = hashtags['2'].str.lower()"
   ]
  },
  {
   "cell_type": "code",
   "execution_count": 114,
   "id": "98486fec-b988-4366-a011-19ea9cad9df0",
   "metadata": {},
   "outputs": [],
   "source": [
    "df['location']=df.apply(location,axis=1)\n",
    "df['explicit']=df.apply(explicit,axis=1)"
   ]
  },
  {
   "cell_type": "code",
   "execution_count": 118,
   "id": "63e54d87-06c3-4db5-bd8c-555b8624f513",
   "metadata": {},
   "outputs": [],
   "source": [
    "df['suspicion_self_training_results'] = self_training['SUSPICIOUS']"
   ]
  },
  {
   "cell_type": "code",
   "execution_count": 120,
   "id": "57353775-6796-463c-87aa-5303b26ce67c",
   "metadata": {},
   "outputs": [],
   "source": [
    "from sklearn.metrics import mean_squared_error, roc_auc_score, classification_report"
   ]
  },
  {
   "cell_type": "code",
   "execution_count": 122,
   "id": "4fd68395-b077-41e7-b606-151a8ff1bbeb",
   "metadata": {},
   "outputs": [
    {
     "name": "stdout",
     "output_type": "stream",
     "text": [
      "              precision    recall  f1-score   support\n",
      "\n",
      "           0       0.26      0.04      0.06       299\n",
      "           1       0.93      0.99      0.96      4109\n",
      "\n",
      "    accuracy                           0.93      4408\n",
      "   macro avg       0.59      0.51      0.51      4408\n",
      "weighted avg       0.89      0.93      0.90      4408\n",
      "\n"
     ]
    }
   ],
   "source": [
    "print(classification_report(df['suspicion'],df['suspicion_self_training_results']))"
   ]
  },
  {
   "cell_type": "code",
   "execution_count": 135,
   "id": "09041d4c-3507-44d4-a500-48a4f1f63503",
   "metadata": {},
   "outputs": [
    {
     "data": {
      "text/plain": [
       "0       To a GREAT Friend &amp; Kind Heart, here are A...\n",
       "2       #Syracuse #orange #autograph #floyd #little #j...\n",
       "3       RT @FloppZilla: Legends! #GOAT #SYRACUSE #Cson...\n",
       "4       RT @FloppZilla: Legends! #GOAT #SYRACUSE #Cson...\n",
       "5       RT @FloppZilla: Legends! #GOAT #SYRACUSE #Cson...\n",
       "                              ...                        \n",
       "4398    #JAMFest2017 - celebration of #Progressive val...\n",
       "4402    A little fudge never hurts! https://t.co/0uk7V...\n",
       "4403    RT @TramontaneCafe: Hey! #Baking friends:WHY  ...\n",
       "4404    RT @TramontaneCafe: Hey! #Baking friends:WHY  ...\n",
       "4405    Hey! #Baking friends:WHY  FORK LINES IN #PEANU...\n",
       "Name: text, Length: 4109, dtype: object"
      ]
     },
     "execution_count": 135,
     "metadata": {},
     "output_type": "execute_result"
    }
   ],
   "source": [
    "df[df['suspicion']==1]['text']"
   ]
  },
  {
   "cell_type": "code",
   "execution_count": 134,
   "id": "4a7151c1-df68-4614-ad97-1338939df2f4",
   "metadata": {},
   "outputs": [],
   "source": [
    "pd.set_option('display.width', 10000)"
   ]
  },
  {
   "cell_type": "code",
   "execution_count": null,
   "id": "46fe00b8-d051-46ab-85cc-1c440a7a1059",
   "metadata": {},
   "outputs": [],
   "source": []
  }
 ],
 "metadata": {
  "kernelspec": {
   "display_name": "Python 3 (ipykernel)",
   "language": "python",
   "name": "python3"
  },
  "language_info": {
   "codemirror_mode": {
    "name": "ipython",
    "version": 3
   },
   "file_extension": ".py",
   "mimetype": "text/x-python",
   "name": "python",
   "nbconvert_exporter": "python",
   "pygments_lexer": "ipython3",
   "version": "3.8.13"
  }
 },
 "nbformat": 4,
 "nbformat_minor": 5
}
