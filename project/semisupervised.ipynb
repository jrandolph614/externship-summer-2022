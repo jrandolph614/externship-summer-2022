{
 "cells": [
  {
   "cell_type": "markdown",
   "id": "37b58926-31d8-4607-af5b-e01909d1aad3",
   "metadata": {},
   "source": [
    "### Requirements"
   ]
  },
  {
   "cell_type": "code",
   "execution_count": 114,
   "id": "51f00132-02f6-49ef-b988-e12c6b00ff70",
   "metadata": {},
   "outputs": [],
   "source": [
    "import pandas as pd \n",
    "import numpy as np\n",
    "import nltk\n",
    "from pipeline import pipeline\n",
    "import joblib\n",
    "from sklearn.metrics import classification_report, confusion_matrix,f1_score, roc_auc_score\n",
    "from sklearn.linear_model import SGDClassifier\n",
    "from sklearn.svm import SVC \n",
    "from sklearn.model_selection import train_test_split, GridSearchCV\n",
    "from sklearn.semi_supervised import SelfTrainingClassifier ,LabelSpreading\n",
    "from sklearn.feature_extraction.text import TfidfTransformer,CountVectorizer\n",
    "from sklearn.preprocessing import FunctionTransformer\n",
    "from sklearn.pipeline import Pipeline\n",
    "import warnings\n",
    "warnings.filterwarnings(\"ignore\")"
   ]
  },
  {
   "cell_type": "markdown",
   "id": "7d14ae94-3de9-4adc-9f08-e20d34eb541b",
   "metadata": {},
   "source": [
    "### Preprocessing"
   ]
  },
  {
   "cell_type": "code",
   "execution_count": 107,
   "id": "f6925f49-b1cb-4ae4-acb5-4dbb946e72a0",
   "metadata": {},
   "outputs": [],
   "source": [
    "labeled = 'data/EscortDataLabelAll.csv'\n",
    "labeled = pd.read_csv(labeled)\n",
    "unlabeled = 'data/cleanData.csv'\n",
    "unlabeled = pd.read_csv(unlabeled)\n",
    "unlabeled['SUSPICIOUS'] = -1\n",
    "unlabeled = unlabeled.loc[:,('text','SUSPICIOUS')]\n",
    "unlabeled.rename(columns={'text':'tweet'},inplace=True)\n",
    "df = pd.concat([labeled,unlabeled],axis=0,join='inner')\n",
    "df= pipeline(df)\n",
    "df= df.returnDf()"
   ]
  },
  {
   "cell_type": "code",
   "execution_count": 108,
   "id": "3e037bbd-7ac2-4b4d-9e1d-d1157cccfd6e",
   "metadata": {},
   "outputs": [],
   "source": [
    "#params\n",
    "sdg_params  = dict(alpha=1e-5, penalty='l2', loss='log_loss')\n",
    "vectorizer_params = dict(ngram_range=(1,2), min_df=3,max_df=.9)\n",
    "svc_params = {'C': 10, 'gamma': 1, 'kernel': 'linear','probability':True}\n",
    "# pipelines\n",
    "supervised_pipeline = Pipeline([\n",
    "    ('vect',CountVectorizer(**vectorizer_params)),\n",
    "    ('tfidf',TfidfTransformer()),\n",
    "    ('clf',SGDClassifier(**sdg_params ))\n",
    "])\n",
    "svc_pipeline = Pipeline([\n",
    "    ('vect',CountVectorizer(**vectorizer_params)),\n",
    "    ('tfidf',TfidfTransformer()),\n",
    "    ('clf',SVC(**svc_params))\n",
    "])\n",
    "self_training_pipeline_svc  = Pipeline([\n",
    "    ('vect',CountVectorizer(**vectorizer_params)),\n",
    "    ('tfidf',TfidfTransformer()),\n",
    "    ('clf',SelfTrainingClassifier(SVC(**svc_params),verbose=True))\n",
    "])\n",
    "self_training_pipeline  = Pipeline([\n",
    "    ('vect',CountVectorizer(**vectorizer_params)),\n",
    "    ('tfidf',TfidfTransformer()),\n",
    "    ('clf',SelfTrainingClassifier(SGDClassifier(**sdg_params ),verbose=True))\n",
    "])\n",
    "label_spreading_pipeline = Pipeline([\n",
    "    ('vect',CountVectorizer(**vectorizer_params)),\n",
    "    ('tfidf',TfidfTransformer()),\n",
    "    ('todense',FunctionTransformer(lambda x: x.todense())),\n",
    "    ('clf',LabelSpreading())\n",
    "])"
   ]
  },
  {
   "cell_type": "code",
   "execution_count": 109,
   "id": "e2d4e711-58e3-4901-b4e5-3b17215e64f3",
   "metadata": {},
   "outputs": [],
   "source": [
    "#evaluation functions\n",
    "def eval_and_print_metrics(clf,X_train,y_train,X_test,y_test):\n",
    "    print(f'Number of training samples: {len(X_train)}')\n",
    "    print(f'Unlabeled samples in training set:{sum(1 for x in y_train if x==-1)}')\n",
    "    clf.fit(X_train,y_train)\n",
    "    y_pred = clf.predict(X_test)\n",
    "    print('Micro-averaged F1 score on test set: '\"%0.3f\"% f1_score(y_test,y_pred,average='micro'))\n",
    "    print(\"-\" * 10)\n",
    "    print('classification report: ')\n",
    "    print(classification_report(y_test,y_pred))\n",
    "    print(\"-\" * 10)\n",
    "    print()"
   ]
  },
  {
   "cell_type": "code",
   "execution_count": 112,
   "id": "d1b51bc2-5fdf-4c53-8497-59958ff0a022",
   "metadata": {},
   "outputs": [],
   "source": [
    "X = df['final']\n",
    "y = df['SUSPICIOUS']\n",
    "X_train, X_test, y_train, y_test = train_test_split(X,y,random_state=42)"
   ]
  },
  {
   "cell_type": "code",
   "execution_count": 111,
   "id": "62fa2604-4f9b-4563-9fcc-59608adc57aa",
   "metadata": {},
   "outputs": [
    {
     "name": "stdout",
     "output_type": "stream",
     "text": [
      "Supervised SGDClassifier on 100% of the data:\n",
      "Number of training samples: 4971\n",
      "Unlabeled samples in training set:3319\n",
      "Micro-averaged F1 score on test set: 0.979\n",
      "----------\n",
      "classification report: \n",
      "              precision    recall  f1-score   support\n",
      "\n",
      "          -1       0.99      1.00      0.99      1089\n",
      "           0       0.95      0.78      0.86        78\n",
      "           1       0.96      0.98      0.97       491\n",
      "\n",
      "    accuracy                           0.98      1658\n",
      "   macro avg       0.97      0.92      0.94      1658\n",
      "weighted avg       0.98      0.98      0.98      1658\n",
      "\n",
      "----------\n",
      "\n",
      "Supervised SVC on 100% of the data:\n",
      "Number of training samples: 4971\n",
      "Unlabeled samples in training set:3319\n",
      "Micro-averaged F1 score on test set: 0.979\n",
      "----------\n",
      "classification report: \n",
      "              precision    recall  f1-score   support\n",
      "\n",
      "          -1       0.99      1.00      0.99      1089\n",
      "           0       0.94      0.78      0.85        78\n",
      "           1       0.96      0.98      0.97       491\n",
      "\n",
      "    accuracy                           0.98      1658\n",
      "   macro avg       0.96      0.92      0.94      1658\n",
      "weighted avg       0.98      0.98      0.98      1658\n",
      "\n",
      "----------\n",
      "\n",
      "SelfTrainingClassifier with SVC on 100% of the data:\n",
      "Number of training samples: 4971\n",
      "Unlabeled samples in training set:3319\n",
      "End of iteration 1, added 3162 new labels.\n",
      "End of iteration 2, added 138 new labels.\n",
      "End of iteration 3, added 13 new labels.\n",
      "End of iteration 4, added 1 new labels.\n",
      "Micro-averaged F1 score on test set: 0.331\n",
      "----------\n",
      "classification report: \n",
      "              precision    recall  f1-score   support\n",
      "\n",
      "          -1       0.00      0.00      0.00      1089\n",
      "           0       0.87      0.78      0.82        78\n",
      "           1       0.31      0.99      0.47       491\n",
      "\n",
      "    accuracy                           0.33      1658\n",
      "   macro avg       0.39      0.59      0.43      1658\n",
      "weighted avg       0.13      0.33      0.18      1658\n",
      "\n",
      "----------\n",
      "\n",
      "Supervised SGDClassifier on 20% of the data:\n",
      "Number of training samples: 1028\n",
      "Unlabeled samples in training set:680\n",
      "Micro-averaged F1 score on test set: 0.942\n",
      "----------\n",
      "classification report: \n",
      "              precision    recall  f1-score   support\n",
      "\n",
      "          -1       0.97      0.97      0.97      1089\n",
      "           0       0.75      0.59      0.66        78\n",
      "           1       0.90      0.93      0.91       491\n",
      "\n",
      "    accuracy                           0.94      1658\n",
      "   macro avg       0.88      0.83      0.85      1658\n",
      "weighted avg       0.94      0.94      0.94      1658\n",
      "\n",
      "----------\n",
      "\n",
      "SelfTrainingClassifier on 20% of the training data (rest is unlabeled):\n",
      "Number of training samples: 4971\n",
      "Unlabeled samples in training set:4623\n",
      "End of iteration 1, added 4427 new labels.\n",
      "End of iteration 2, added 184 new labels.\n",
      "End of iteration 3, added 2 new labels.\n",
      "Micro-averaged F1 score on test set: 0.317\n",
      "----------\n",
      "classification report: \n",
      "              precision    recall  f1-score   support\n",
      "\n",
      "          -1       0.00      0.00      0.00      1089\n",
      "           0       0.91      0.50      0.64        78\n",
      "           1       0.30      0.99      0.46       491\n",
      "\n",
      "    accuracy                           0.32      1658\n",
      "   macro avg       0.40      0.50      0.37      1658\n",
      "weighted avg       0.13      0.32      0.17      1658\n",
      "\n",
      "----------\n",
      "\n",
      "LabelSpreading on 20% of the data (rest is unlabeled):\n",
      "Number of training samples: 4971\n",
      "Unlabeled samples in training set:4623\n",
      "Micro-averaged F1 score on test set: 0.309\n",
      "----------\n",
      "classification report: \n",
      "              precision    recall  f1-score   support\n",
      "\n",
      "          -1       0.00      0.00      0.00      1089\n",
      "           0       0.40      0.44      0.41        78\n",
      "           1       0.30      0.98      0.46       491\n",
      "\n",
      "    accuracy                           0.31      1658\n",
      "   macro avg       0.23      0.47      0.29      1658\n",
      "weighted avg       0.11      0.31      0.16      1658\n",
      "\n",
      "----------\n",
      "\n"
     ]
    }
   ],
   "source": [
    "print('Supervised SGDClassifier on 100% of the data:')\n",
    "eval_and_print_metrics(supervised_pipeline,X_train,y_train,X_test,y_test)\n",
    "print('Supervised SVC on 100% of the data:')\n",
    "eval_and_print_metrics(svc_pipeline,X_train,y_train,X_test,y_test)\n",
    "print('SelfTrainingClassifier with SVC on 100% of the data:')\n",
    "eval_and_print_metrics(self_training_pipeline_svc,X_train,y_train,X_test,y_test)\n",
    "#mask 20% of the train dataset\n",
    "y_mask = np.random.rand(len(y_train)) <0.2\n",
    "#subset of the data \n",
    "X_20, y_20 = map(list,zip(*((x,y) for x,y,m in zip(X_train,y_train,y_mask) if m)))\n",
    "print('Supervised SGDClassifier on 20% of the data:')\n",
    "eval_and_print_metrics(supervised_pipeline,X_20,y_20,X_test,y_test)\n",
    "#no-masked subset of unlabled data\n",
    "y_train[~y_mask] =-1\n",
    "print(\"SelfTrainingClassifier on 20% of the training data (rest \"\n",
    "          \"is unlabeled):\")\n",
    "eval_and_print_metrics(self_training_pipeline, X_train, y_train, X_test, y_test)\n",
    "print(\"LabelSpreading on 20% of the data (rest is unlabeled):\")\n",
    "eval_and_print_metrics(label_spreading_pipeline, X_train, y_train, X_test, y_test)"
   ]
  },
  {
   "cell_type": "code",
   "execution_count": 125,
   "id": "1e4dbd18-02a9-416d-bab5-2129e0fa0e0c",
   "metadata": {},
   "outputs": [
    {
     "data": {
      "image/png": "[encoded data removed]",
      "text/plain": [
       "<Figure size 432x288 with 1 Axes>"
      ]
     },
     "metadata": {
      "needs_background": "light"
     },
     "output_type": "display_data"
    }
   ],
   "source": [
    "from sklearn.cluster import KMeans\n",
    "from sklearn.decomposition import PCA\n",
    "import matplotlib.pyplot as plt\n",
    "data = df[['final','SUSPICIOUS']]\n",
    "original = data[data['SUSPICIOUS']!=-1]\n",
    "k_means_params =  {'n_clusters':2}\n",
    "# pipelines\n",
    "kmeans_pipeline = Pipeline([\n",
    "    ('vect',CountVectorizer(**vectorizer_params)),\n",
    "    ('tfidf',TfidfTransformer()),\n",
    "    ('clf',KMeans(**k_means_params))\n",
    "])\n",
    "vectorizer = Pipeline([\n",
    "    ('vect',CountVectorizer(**vectorizer_params)),\n",
    "    ('tfidf',TfidfTransformer())])\n",
    "X = vectorizer.fit_transform(original['final']).todense()\n",
    "pca = PCA(n_components=2).fit(X)\n",
    "data2D = pca.transform(X)\n",
    "plt.scatter(data2D[:,0], data2D[:,1], c=original.SUSPICIOUS)\n",
    "plt.show()   "
   ]
  },
  {
   "cell_type": "code",
   "execution_count": 126,
   "id": "48583a43-d46d-41c7-af25-de76e8643535",
   "metadata": {},
   "outputs": [],
   "source": [
    "k = kmeans_pipeline.fit_predict(original['final'])"
   ]
  },
  {
   "cell_type": "code",
   "execution_count": 127,
   "id": "3ce00fce-5919-4dd9-b598-31aa0e9ace18",
   "metadata": {},
   "outputs": [
    {
     "data": {
      "text/plain": [
       "array([1, 1, 1, ..., 1, 1, 1])"
      ]
     },
     "execution_count": 127,
     "metadata": {},
     "output_type": "execute_result"
    }
   ],
   "source": [
    "k"
   ]
  },
  {
   "cell_type": "markdown",
   "id": "39e56ead-fe00-4c28-a519-fe90e2d1b54e",
   "metadata": {},
   "source": [
    "- apply prediction the the unlabeled data \n",
    "- join to dataset where you applied prediction to the data\n",
    "- test to see how accurate the labels are to each other "
   ]
  },
  {
   "cell_type": "code",
   "execution_count": null,
   "id": "e093d5cc-4a2f-464d-8a11-6ae126d23dc4",
   "metadata": {},
   "outputs": [],
   "source": []
  }
 ],
 "metadata": {
  "kernelspec": {
   "display_name": "Python 3 (ipykernel)",
   "language": "python",
   "name": "python3"
  },
  "language_info": {
   "codemirror_mode": {
    "name": "ipython",
    "version": 3
   },
   "file_extension": ".py",
   "mimetype": "text/x-python",
   "name": "python",
   "nbconvert_exporter": "python",
   "pygments_lexer": "ipython3",
   "version": "3.8.13"
  }
 },
 "nbformat": 4,
 "nbformat_minor": 5
}
