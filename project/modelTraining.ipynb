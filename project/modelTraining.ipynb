{
 "cells": [
  {
   "cell_type": "code",
   "execution_count": null,
   "id": "6e82631c-2e16-4b51-9cf2-1f1ae1bca2b5",
   "metadata": {},
   "outputs": [],
   "source": [
    "#!python -m nltk.downloader all"
   ]
  },
  {
   "cell_type": "code",
   "execution_count": 129,
   "id": "223db16f-e7bf-4b30-8885-30940435e687",
   "metadata": {},
   "outputs": [
    {
     "data": {
      "text/html": [
       "<div>\n",
       "<style scoped>\n",
       "    .dataframe tbody tr th:only-of-type {\n",
       "        vertical-align: middle;\n",
       "    }\n",
       "\n",
       "    .dataframe tbody tr th {\n",
       "        vertical-align: top;\n",
       "    }\n",
       "\n",
       "    .dataframe thead th {\n",
       "        text-align: right;\n",
       "    }\n",
       "</style>\n",
       "<table border=\"1\" class=\"dataframe\">\n",
       "  <thead>\n",
       "    <tr style=\"text-align: right;\">\n",
       "      <th></th>\n",
       "      <th>tweet</th>\n",
       "      <th>SUSPICIOUS</th>\n",
       "    </tr>\n",
       "  </thead>\n",
       "  <tbody>\n",
       "    <tr>\n",
       "      <th>0</th>\n",
       "      <td>rt @_just__v: available for romantic appointme...</td>\n",
       "      <td>1</td>\n",
       "    </tr>\n",
       "    <tr>\n",
       "      <th>1</th>\n",
       "      <td>requiring a #mature dinner companion in #orlan...</td>\n",
       "      <td>1</td>\n",
       "    </tr>\n",
       "    <tr>\n",
       "      <th>2</th>\n",
       "      <td>wanting to plan a sensual escape in #orlando? ...</td>\n",
       "      <td>1</td>\n",
       "    </tr>\n",
       "    <tr>\n",
       "      <th>3</th>\n",
       "      <td>Ã°ÂŸÂ“Â£well, now am i not only open for inqui...</td>\n",
       "      <td>1</td>\n",
       "    </tr>\n",
       "    <tr>\n",
       "      <th>4</th>\n",
       "      <td>#orlando #florida &amp;amp; surrounding cities. \\n...</td>\n",
       "      <td>0</td>\n",
       "    </tr>\n",
       "    <tr>\n",
       "      <th>...</th>\n",
       "      <td>...</td>\n",
       "      <td>...</td>\n",
       "    </tr>\n",
       "    <tr>\n",
       "      <th>2216</th>\n",
       "      <td>#mellabellaexperience \\nhouston, tx book me \\n...</td>\n",
       "      <td>1</td>\n",
       "    </tr>\n",
       "    <tr>\n",
       "      <th>2217</th>\n",
       "      <td>had such an amazing time today for my photosho...</td>\n",
       "      <td>1</td>\n",
       "    </tr>\n",
       "    <tr>\n",
       "      <th>2218</th>\n",
       "      <td>astros won !!! Ã¢ÂšÂ¾Ã¯Â¸ÂÃ°ÂŸÂ¤Â˜Ã°ÂŸÂÂ¾ #h...</td>\n",
       "      <td>0</td>\n",
       "    </tr>\n",
       "    <tr>\n",
       "      <th>2219</th>\n",
       "      <td>#cameroon soldiers are said to have raided a v...</td>\n",
       "      <td>0</td>\n",
       "    </tr>\n",
       "    <tr>\n",
       "      <th>2220</th>\n",
       "      <td>another sneak peek from my amazing photoshoot ...</td>\n",
       "      <td>1</td>\n",
       "    </tr>\n",
       "  </tbody>\n",
       "</table>\n",
       "<p>2221 rows × 2 columns</p>\n",
       "</div>"
      ],
      "text/plain": [
       "                                                  tweet  SUSPICIOUS\n",
       "0     rt @_just__v: available for romantic appointme...           1\n",
       "1     requiring a #mature dinner companion in #orlan...           1\n",
       "2     wanting to plan a sensual escape in #orlando? ...           1\n",
       "3     Ã°ÂŸÂ“Â£well, now am i not only open for inqui...           1\n",
       "4     #orlando #florida &amp; surrounding cities. \\n...           0\n",
       "...                                                 ...         ...\n",
       "2216  #mellabellaexperience \\nhouston, tx book me \\n...           1\n",
       "2217  had such an amazing time today for my photosho...           1\n",
       "2218  astros won !!! Ã¢ÂšÂ¾Ã¯Â¸ÂÃ°ÂŸÂ¤Â˜Ã°ÂŸÂÂ¾ #h...           0\n",
       "2219  #cameroon soldiers are said to have raided a v...           0\n",
       "2220  another sneak peek from my amazing photoshoot ...           1\n",
       "\n",
       "[2221 rows x 2 columns]"
      ]
     },
     "execution_count": 129,
     "metadata": {},
     "output_type": "execute_result"
    }
   ],
   "source": [
    "import pandas as pd\n",
    "import numpy as np\n",
    "import nltk \n",
    "import re\n",
    "#nltk.download()\n",
    "file = 'data/EscortDataLabelAll.csv'\n",
    "df = pd.read_csv(file)\n",
    "data = df[['tweet','SUSPICIOUS']].copy()\n",
    "data"
   ]
  },
  {
   "cell_type": "code",
   "execution_count": 130,
   "id": "a84609cc-8575-4855-b694-73458e3f8c6f",
   "metadata": {},
   "outputs": [
    {
     "data": {
      "text/plain": [
       "<seaborn.axisgrid.FacetGrid at 0x19bd43d6430>"
      ]
     },
     "execution_count": 130,
     "metadata": {},
     "output_type": "execute_result"
    },
    {
     "data": {
      "image/png": "[encoded data removed]",
      "text/plain": [
       "<Figure size 360x360 with 1 Axes>"
      ]
     },
     "metadata": {
      "needs_background": "light"
     },
     "output_type": "display_data"
    }
   ],
   "source": [
    "import matplotlib.pyplot as plt\n",
    "import seaborn as sns\n",
    "sns.displot(list(df['SUSPICIOUS']))"
   ]
  },
  {
   "cell_type": "code",
   "execution_count": 131,
   "id": "07f1af64-6ab5-4d77-8f05-b985a42c923b",
   "metadata": {},
   "outputs": [],
   "source": [
    "from nltk import word_tokenize\n",
    "from nltk.corpus import stopwords\n",
    "from nltk.stem.porter import PorterStemmer\n",
    "from nltk.stem import WordNetLemmatizer\n",
    "import sklearn\n",
    "stop_words = stopwords.words('english')\n",
    "def clean_text(df):\n",
    "    df['clean_text'] = df['tweet'].apply(lambda elem: re.sub(r\"(@[A-Za-z0-9]+)|([^0-9A-Za-z \\t])|(\\w+:\\/\\/\\S+)|^rt|http.+?\", \"\", elem))\n",
    "    return df\n",
    "def tokenize(row):\n",
    "    res = word_tokenize(row['clean_text'])\n",
    "    return res\n",
    "def stop_word_filtering(row):\n",
    "    res = [word for word in row['token'] if word not in stop_words]\n",
    "    return res\n",
    "def lemmatizer(row):   \n",
    "    res = [WordNetLemmatizer().lemmatize(word=word) for word in row['token'] ]\n",
    "    return res\n",
    "def rejoin(row):\n",
    "    res = ''\n",
    "    for i in row['lement']:\n",
    "        res+=i\n",
    "        res+=' '\n",
    "    return res\n",
    "data = clean_text(data)\n",
    "data['token']=data.apply(tokenize,axis=1)\n",
    "data['token']=data.apply(stop_word_filtering,axis=1)\n",
    "data['lement']=data.apply(lemmatizer,axis=1)\n",
    "data['final'] = data.apply(rejoin,axis=1)\n",
    "vectorizer= sklearn.feature_extraction.text.TfidfVectorizer().fit(data['final'])\n",
    "X = vectorizer.transform(data['final'])\n",
    "data['tfidf']=X.toarray().tolist()\n",
    "y = list(data['SUSPICIOUS'])"
   ]
  },
  {
   "cell_type": "code",
   "execution_count": 132,
   "id": "63b79808-06d6-4e30-a67a-95296f649590",
   "metadata": {},
   "outputs": [],
   "source": [
    "from sklearn.metrics import classification_report, confusion_matrix\n",
    "from sklearn.svm import SVC\n",
    "from sklearn.model_selection import train_test_split, GridSearchCV\n",
    "svc = SVC()\n",
    "param_grid = {'C': [0.1, 1, 10, 100, 1000],\n",
    "              'gamma': [1, 0.1, 0.01, 0.001, 0.0001],\n",
    "              'kernel': ['rbf','linear','poly','sigmoid']}"
   ]
  },
  {
   "cell_type": "code",
   "execution_count": 133,
   "id": "121e30df-2c2c-44f0-bcc6-c2b20299cd0f",
   "metadata": {},
   "outputs": [
    {
     "data": {
      "text/html": [
       "<style>#sk-container-id-6 {color: black;background-color: white;}#sk-container-id-6 pre{padding: 0;}#sk-container-id-6 div.sk-toggleable {background-color: white;}#sk-container-id-6 label.sk-toggleable__label {cursor: pointer;display: block;width: 100%;margin-bottom: 0;padding: 0.3em;box-sizing: border-box;text-align: center;}#sk-container-id-6 label.sk-toggleable__label-arrow:before {content: \"▸\";float: left;margin-right: 0.25em;color: #696969;}#sk-container-id-6 label.sk-toggleable__label-arrow:hover:before {color: black;}#sk-container-id-6 div.sk-estimator:hover label.sk-toggleable__label-arrow:before {color: black;}#sk-container-id-6 div.sk-toggleable__content {max-height: 0;max-width: 0;overflow: hidden;text-align: left;background-color: #f0f8ff;}#sk-container-id-6 div.sk-toggleable__content pre {margin: 0.2em;color: black;border-radius: 0.25em;background-color: #f0f8ff;}#sk-container-id-6 input.sk-toggleable__control:checked~div.sk-toggleable__content {max-height: 200px;max-width: 100%;overflow: auto;}#sk-container-id-6 input.sk-toggleable__control:checked~label.sk-toggleable__label-arrow:before {content: \"▾\";}#sk-container-id-6 div.sk-estimator input.sk-toggleable__control:checked~label.sk-toggleable__label {background-color: #d4ebff;}#sk-container-id-6 div.sk-label input.sk-toggleable__control:checked~label.sk-toggleable__label {background-color: #d4ebff;}#sk-container-id-6 input.sk-hidden--visually {border: 0;clip: rect(1px 1px 1px 1px);clip: rect(1px, 1px, 1px, 1px);height: 1px;margin: -1px;overflow: hidden;padding: 0;position: absolute;width: 1px;}#sk-container-id-6 div.sk-estimator {font-family: monospace;background-color: #f0f8ff;border: 1px dotted black;border-radius: 0.25em;box-sizing: border-box;margin-bottom: 0.5em;}#sk-container-id-6 div.sk-estimator:hover {background-color: #d4ebff;}#sk-container-id-6 div.sk-parallel-item::after {content: \"\";width: 100%;border-bottom: 1px solid gray;flex-grow: 1;}#sk-container-id-6 div.sk-label:hover label.sk-toggleable__label {background-color: #d4ebff;}#sk-container-id-6 div.sk-serial::before {content: \"\";position: absolute;border-left: 1px solid gray;box-sizing: border-box;top: 0;bottom: 0;left: 50%;z-index: 0;}#sk-container-id-6 div.sk-serial {display: flex;flex-direction: column;align-items: center;background-color: white;padding-right: 0.2em;padding-left: 0.2em;position: relative;}#sk-container-id-6 div.sk-item {position: relative;z-index: 1;}#sk-container-id-6 div.sk-parallel {display: flex;align-items: stretch;justify-content: center;background-color: white;position: relative;}#sk-container-id-6 div.sk-item::before, #sk-container-id-6 div.sk-parallel-item::before {content: \"\";position: absolute;border-left: 1px solid gray;box-sizing: border-box;top: 0;bottom: 0;left: 50%;z-index: -1;}#sk-container-id-6 div.sk-parallel-item {display: flex;flex-direction: column;z-index: 1;position: relative;background-color: white;}#sk-container-id-6 div.sk-parallel-item:first-child::after {align-self: flex-end;width: 50%;}#sk-container-id-6 div.sk-parallel-item:last-child::after {align-self: flex-start;width: 50%;}#sk-container-id-6 div.sk-parallel-item:only-child::after {width: 0;}#sk-container-id-6 div.sk-dashed-wrapped {border: 1px dashed gray;margin: 0 0.4em 0.5em 0.4em;box-sizing: border-box;padding-bottom: 0.4em;background-color: white;}#sk-container-id-6 div.sk-label label {font-family: monospace;font-weight: bold;display: inline-block;line-height: 1.2em;}#sk-container-id-6 div.sk-label-container {text-align: center;}#sk-container-id-6 div.sk-container {/* jupyter's `normalize.less` sets `[hidden] { display: none; }` but bootstrap.min.css set `[hidden] { display: none !important; }` so we also need the `!important` here to be able to override the default hidden behavior on the sphinx rendered scikit-learn.org. See: https://github.com/scikit-learn/scikit-learn/issues/21755 */display: inline-block !important;position: relative;}#sk-container-id-6 div.sk-text-repr-fallback {display: none;}</style><div id=\"sk-container-id-6\" class=\"sk-top-container\"><div class=\"sk-text-repr-fallback\"><pre>GridSearchCV(estimator=SVC(),\n",
       "             param_grid={&#x27;C&#x27;: [0.1, 1, 10, 100, 1000],\n",
       "                         &#x27;gamma&#x27;: [1, 0.1, 0.01, 0.001, 0.0001],\n",
       "                         &#x27;kernel&#x27;: [&#x27;rbf&#x27;, &#x27;linear&#x27;, &#x27;poly&#x27;, &#x27;sigmoid&#x27;]})</pre><b>In a Jupyter environment, please rerun this cell to show the HTML representation or trust the notebook. <br />On GitHub, the HTML representation is unable to render, please try loading this page with nbviewer.org.</b></div><div class=\"sk-container\" hidden><div class=\"sk-item sk-dashed-wrapped\"><div class=\"sk-label-container\"><div class=\"sk-label sk-toggleable\"><input class=\"sk-toggleable__control sk-hidden--visually\" id=\"sk-estimator-id-12\" type=\"checkbox\" ><label for=\"sk-estimator-id-12\" class=\"sk-toggleable__label sk-toggleable__label-arrow\">GridSearchCV</label><div class=\"sk-toggleable__content\"><pre>GridSearchCV(estimator=SVC(),\n",
       "             param_grid={&#x27;C&#x27;: [0.1, 1, 10, 100, 1000],\n",
       "                         &#x27;gamma&#x27;: [1, 0.1, 0.01, 0.001, 0.0001],\n",
       "                         &#x27;kernel&#x27;: [&#x27;rbf&#x27;, &#x27;linear&#x27;, &#x27;poly&#x27;, &#x27;sigmoid&#x27;]})</pre></div></div></div><div class=\"sk-parallel\"><div class=\"sk-parallel-item\"><div class=\"sk-item\"><div class=\"sk-label-container\"><div class=\"sk-label sk-toggleable\"><input class=\"sk-toggleable__control sk-hidden--visually\" id=\"sk-estimator-id-13\" type=\"checkbox\" ><label for=\"sk-estimator-id-13\" class=\"sk-toggleable__label sk-toggleable__label-arrow\">estimator: SVC</label><div class=\"sk-toggleable__content\"><pre>SVC()</pre></div></div></div><div class=\"sk-serial\"><div class=\"sk-item\"><div class=\"sk-estimator sk-toggleable\"><input class=\"sk-toggleable__control sk-hidden--visually\" id=\"sk-estimator-id-14\" type=\"checkbox\" ><label for=\"sk-estimator-id-14\" class=\"sk-toggleable__label sk-toggleable__label-arrow\">SVC</label><div class=\"sk-toggleable__content\"><pre>SVC()</pre></div></div></div></div></div></div></div></div></div></div>"
      ],
      "text/plain": [
       "GridSearchCV(estimator=SVC(),\n",
       "             param_grid={'C': [0.1, 1, 10, 100, 1000],\n",
       "                         'gamma': [1, 0.1, 0.01, 0.001, 0.0001],\n",
       "                         'kernel': ['rbf', 'linear', 'poly', 'sigmoid']})"
      ]
     },
     "execution_count": 133,
     "metadata": {},
     "output_type": "execute_result"
    }
   ],
   "source": [
    "X_train, X_test,y_train, y_test = train_test_split(X,y,test_size=.2, random_state=42)\n",
    "grid = GridSearchCV(svc,param_grid,refit=True)\n",
    "grid.fit(X_train,y_train)"
   ]
  },
  {
   "cell_type": "code",
   "execution_count": 134,
   "id": "7e154311-1b98-43a6-89ad-558c69a60335",
   "metadata": {},
   "outputs": [
    {
     "name": "stdout",
     "output_type": "stream",
     "text": [
      "{'C': 10, 'gamma': 1, 'kernel': 'linear'}\n",
      "SVC(C=10, gamma=1, kernel='linear')\n"
     ]
    }
   ],
   "source": [
    "print(grid.best_params_)\n",
    "print(grid.best_estimator_)"
   ]
  },
  {
   "cell_type": "code",
   "execution_count": 135,
   "id": "91edb726-c11b-4bb4-bc0d-c8e9bc60c195",
   "metadata": {},
   "outputs": [
    {
     "name": "stdout",
     "output_type": "stream",
     "text": [
      "              precision    recall  f1-score   support\n",
      "\n",
      "           0       0.98      0.73      0.84        64\n",
      "           1       0.96      1.00      0.98       381\n",
      "\n",
      "    accuracy                           0.96       445\n",
      "   macro avg       0.97      0.87      0.91       445\n",
      "weighted avg       0.96      0.96      0.96       445\n",
      "\n"
     ]
    }
   ],
   "source": [
    "grid_pred = grid.predict(X_test)\n",
    "print(classification_report(y_test,grid_pred))"
   ]
  },
  {
   "cell_type": "code",
   "execution_count": 136,
   "id": "ddb5b270-ce28-48be-b5a0-58117c40d73b",
   "metadata": {},
   "outputs": [
    {
     "data": {
      "text/plain": [
       "['models/vectorizer.pkl']"
      ]
     },
     "execution_count": 136,
     "metadata": {},
     "output_type": "execute_result"
    }
   ],
   "source": [
    "import joblib\n",
    "joblib.dump(grid,'models/model.pkl')\n",
    "joblib.dump(vectorizer,'models/vectorizer.pkl')"
   ]
  },
  {
   "cell_type": "code",
   "execution_count": 116,
   "id": "ede38742-2ab4-4cb1-b6ba-032c2a07001f",
   "metadata": {},
   "outputs": [],
   "source": [
    "class pipeline:\n",
    "    def __init__(self,df):\n",
    "        self.df = df\n",
    "        self.process()\n",
    "    def clean_text(self,df):\n",
    "        df['clean_text'] = df['tweet'].apply(lambda elem: re.sub(r\"(@[A-Za-z0-9]+)|([^0-9A-Za-z \\t])|(\\w+:\\/\\/\\S+)|^rt|http.+?\", \"\", elem))\n",
    "        return df\n",
    "    def tokenize(self,row):\n",
    "        res = word_tokenize(row['clean_text'])\n",
    "        return res\n",
    "    def stop_word_filtering(self,row):\n",
    "        res = [word for word in row['token'] if word not in stop_words]\n",
    "        return res\n",
    "    def lemmatizer(self,row):   \n",
    "        res = [WordNetLemmatizer().lemmatize(word=word) for word in row['token'] ]\n",
    "        return res\n",
    "    def rejoin(self,row):\n",
    "        res = ''\n",
    "        for i in row['lement']:\n",
    "            res+=i\n",
    "            res+=' '\n",
    "        return res\n",
    "    def process(self):\n",
    "        self.df = clean_text(self.df)\n",
    "        self.df['clean_text'] = self.df['clean_text'].str.lower()\n",
    "        self.df['token']=self.df.apply(tokenize,axis=1)\n",
    "        self.df['token']=self.df.apply(stop_word_filtering,axis=1)\n",
    "        self.df['lement']=self.df.apply(lemmatizer,axis=1)\n",
    "        self.df['final'] = self.df.apply(rejoin,axis=1)\n",
    "    def returnDf(self):\n",
    "        return self.df\n",
    "    def returnX(self,vectorizer):\n",
    "        \n",
    "        self.X = vectorizer.transform(self.df['final'])\n",
    "        return self.X\n"
   ]
  },
  {
   "cell_type": "code",
   "execution_count": 120,
   "id": "00063cd1-43b9-4b52-9743-e0cdeab3baef",
   "metadata": {},
   "outputs": [],
   "source": [
    "final_df = pd.read_csv('data/cleanData.csv')\n",
    "final_df = final_df['clean_text'].to_frame()\n",
    "final_df.rename(columns={'clean_text':'tweet'},inplace=True)\n",
    "pipe = pipeline(final_df)\n",
    "final_X = pipe.returnX(data['final'])\n",
    "final_df = pipe.returnDf()"
   ]
  },
  {
   "cell_type": "code",
   "execution_count": 121,
   "id": "8a6e3057-3f11-46ce-b4e7-f587c68eba65",
   "metadata": {},
   "outputs": [],
   "source": [
    "final_params = {'C': 10, 'gamma': 1, 'kernel': 'linear'}\n",
    "final_pred = grid.predict(final_X)"
   ]
  },
  {
   "cell_type": "code",
   "execution_count": 122,
   "id": "82e791d4-88c3-40cf-b6a0-d9d260ecd644",
   "metadata": {},
   "outputs": [],
   "source": [
    "final_df['suspicion'] = final_pred"
   ]
  },
  {
   "cell_type": "code",
   "execution_count": 125,
   "id": "80e4ea64-8fe7-41b9-8cc5-d9a0d8476051",
   "metadata": {},
   "outputs": [
    {
     "data": {
      "text/html": [
       "<div>\n",
       "<style scoped>\n",
       "    .dataframe tbody tr th:only-of-type {\n",
       "        vertical-align: middle;\n",
       "    }\n",
       "\n",
       "    .dataframe tbody tr th {\n",
       "        vertical-align: top;\n",
       "    }\n",
       "\n",
       "    .dataframe thead th {\n",
       "        text-align: right;\n",
       "    }\n",
       "</style>\n",
       "<table border=\"1\" class=\"dataframe\">\n",
       "  <thead>\n",
       "    <tr style=\"text-align: right;\">\n",
       "      <th></th>\n",
       "      <th>tweet</th>\n",
       "      <th>suspicion</th>\n",
       "    </tr>\n",
       "  </thead>\n",
       "  <tbody>\n",
       "    <tr>\n",
       "      <th>0</th>\n",
       "      <td>To a GREAT Friend amp Kind Heart here are ALL ...</td>\n",
       "      <td>1</td>\n",
       "    </tr>\n",
       "    <tr>\n",
       "      <th>1</th>\n",
       "      <td>remember when Syracuse was a football blue blo...</td>\n",
       "      <td>0</td>\n",
       "    </tr>\n",
       "    <tr>\n",
       "      <th>2</th>\n",
       "      <td>Syracuse orange autograph floyd little jersey ...</td>\n",
       "      <td>1</td>\n",
       "    </tr>\n",
       "    <tr>\n",
       "      <th>3</th>\n",
       "      <td>RT  Legends GOAT SYRACUSE Csonka Little Coughl...</td>\n",
       "      <td>1</td>\n",
       "    </tr>\n",
       "    <tr>\n",
       "      <th>4</th>\n",
       "      <td>RT  Legends GOAT SYRACUSE Csonka Little Coughl...</td>\n",
       "      <td>1</td>\n",
       "    </tr>\n",
       "    <tr>\n",
       "      <th>...</th>\n",
       "      <td>...</td>\n",
       "      <td>...</td>\n",
       "    </tr>\n",
       "    <tr>\n",
       "      <th>4403</th>\n",
       "      <td>RT  Hey Baking friendsWHY  FORK LINES IN PEANU...</td>\n",
       "      <td>1</td>\n",
       "    </tr>\n",
       "    <tr>\n",
       "      <th>4404</th>\n",
       "      <td>RT  Hey Baking friendsWHY  FORK LINES IN PEANU...</td>\n",
       "      <td>1</td>\n",
       "    </tr>\n",
       "    <tr>\n",
       "      <th>4405</th>\n",
       "      <td>Hey Baking friendsWHY  FORK LINES IN PEANUTBUT...</td>\n",
       "      <td>1</td>\n",
       "    </tr>\n",
       "    <tr>\n",
       "      <th>4406</th>\n",
       "      <td>Rawr Check out these adorable costumes Hallowe...</td>\n",
       "      <td>0</td>\n",
       "    </tr>\n",
       "    <tr>\n",
       "      <th>4407</th>\n",
       "      <td>cosibellanail cosibellanailspa shelbytownship ...</td>\n",
       "      <td>0</td>\n",
       "    </tr>\n",
       "  </tbody>\n",
       "</table>\n",
       "<p>4408 rows × 2 columns</p>\n",
       "</div>"
      ],
      "text/plain": [
       "                                                  tweet  suspicion\n",
       "0     To a GREAT Friend amp Kind Heart here are ALL ...          1\n",
       "1     remember when Syracuse was a football blue blo...          0\n",
       "2     Syracuse orange autograph floyd little jersey ...          1\n",
       "3     RT  Legends GOAT SYRACUSE Csonka Little Coughl...          1\n",
       "4     RT  Legends GOAT SYRACUSE Csonka Little Coughl...          1\n",
       "...                                                 ...        ...\n",
       "4403  RT  Hey Baking friendsWHY  FORK LINES IN PEANU...          1\n",
       "4404  RT  Hey Baking friendsWHY  FORK LINES IN PEANU...          1\n",
       "4405  Hey Baking friendsWHY  FORK LINES IN PEANUTBUT...          1\n",
       "4406  Rawr Check out these adorable costumes Hallowe...          0\n",
       "4407  cosibellanail cosibellanailspa shelbytownship ...          0\n",
       "\n",
       "[4408 rows x 2 columns]"
      ]
     },
     "execution_count": 125,
     "metadata": {},
     "output_type": "execute_result"
    }
   ],
   "source": [
    "final_df[['tweet','suspicion']]"
   ]
  },
  {
   "cell_type": "code",
   "execution_count": null,
   "id": "576ecb6f-f47f-4ce9-8f36-a0e0c85fd049",
   "metadata": {},
   "outputs": [],
   "source": []
  }
 ],
 "metadata": {
  "kernelspec": {
   "display_name": "Python 3 (ipykernel)",
   "language": "python",
   "name": "python3"
  },
  "language_info": {
   "codemirror_mode": {
    "name": "ipython",
    "version": 3
   },
   "file_extension": ".py",
   "mimetype": "text/x-python",
   "name": "python",
   "nbconvert_exporter": "python",
   "pygments_lexer": "ipython3",
   "version": "3.8.13"
  }
 },
 "nbformat": 4,
 "nbformat_minor": 5
}
