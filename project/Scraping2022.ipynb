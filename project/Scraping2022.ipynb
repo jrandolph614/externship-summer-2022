{
 "cells": [
  {
   "cell_type": "code",
   "execution_count": 103,
   "id": "8d63f7ba-f1b9-4c70-820d-0d8048508c9e",
   "metadata": {},
   "outputs": [],
   "source": [
    "#requirements \n",
    "from congfig import * \n",
    "import pandas as pd\n",
    "import tweepy\n",
    "import time\n",
    "#swap these for your information, found on twitter api\n",
    "#API\n",
    "consumer_key = API_KEY\n",
    "#API Secret\n",
    "consumer_secret = API_SECRET\n",
    "#Token\n",
    "access_key = ACCESS_TOKEN\n",
    "#Token Secret\n",
    "access_secret= ACCESS_SECRET\n",
    "#Bearer\n",
    "bearer_token = BEARER\n",
    "auth = tweepy.OAuthHandler(consumer_key, consumer_secret)\n",
    "auth.set_access_token(access_key, access_secret)\n",
    "api = tweepy.API(auth)\n",
    "#swap for your bearer token\n",
    "client = tweepy.Client(bearer_token)"
   ]
  },
  {
   "cell_type": "code",
   "execution_count": 106,
   "id": "9f548889-4d72-49ad-a613-8514624fe926",
   "metadata": {
    "collapsed": true,
    "jupyter": {
     "outputs_hidden": true
    },
    "tags": []
   },
   "outputs": [
    {
     "name": "stdout",
     "output_type": "stream",
     "text": [
      "RT @CraigEpstein18: As he prepares for his sophomore season with #RFootball, @HamiltonKyonte talks spring ball and the transition from #RU…2022-03-28 15:35:08+00:00\n",
      "RT @CraigEpstein18: As he prepares for his sophomore season with #RFootball, @HamiltonKyonte talks spring ball and the transition from #RU…2022-03-28 15:34:26+00:00\n",
      "As he prepares for his sophomore season with #RFootball, @HamiltonKyonte talks spring ball and the transition from #RU wrestling. #Rutgers @RutgersRivals https://t.co/NPIsHAQo5v2022-03-28 15:28:19+00:00\n",
      "RT @RutgersRivals: .@HamiltonKyonte talks #Rutgers Football transition from #RU Wrestling and more as he prepares for year two on the banks…2022-03-28 15:22:22+00:00\n",
      ".@HamiltonKyonte talks #Rutgers Football transition from #RU Wrestling and more as he prepares for year two on the banks. \n",
      "\n",
      "https://t.co/VCY0Th2L5B2022-03-28 12:42:55+00:00\n",
      "RT @NameOfMy1stBand: Happening today! At 3:30 PM 🎸 Tix 10$ at the Rutgers Student Center 126 College Ave @RutgersU @Screamales @CityofNewBr…2022-03-26 20:47:35+00:00\n",
      "RT @NameOfMy1stBand: Happening today! At 3:30 PM 🎸 Tix 10$ at the Rutgers Student Center 126 College Ave @RutgersU @Screamales @CityofNewBr…2022-03-26 20:47:19+00:00\n",
      "Happening today! At 3:30 PM 🎸 Tix 10$ at the Rutgers Student Center 126 College Ave @RutgersU @Screamales @CityofNewBruns @thecorefm #Rutgers #thecore #thecorefm #corefest #RU #punk #nj\n",
      "\n",
      "Via @NB_Today \n",
      "\n",
      "https://t.co/IwaXBAENNh2022-03-26 18:05:37+00:00\n",
      "@MylestheMonster #ru #Rutgers  #rutgersbasketball. @__RHJR @caleb_mcco @paulmulcahy_4 @Geo_Baker_1 https://t.co/4GbLP5KGsW2022-03-26 02:20:53+00:00\n",
      "RT @IbkBender: There’s no words in the dictionary that can describe how happy I am for Naz. Once a player then a Coach. Our DB core wouldn’…2022-03-25 19:23:36+00:00\n",
      "There’s no words in the dictionary that can describe how happy I am for Naz. Once a player then a Coach. Our DB core wouldn’t be as successful without @Nas_Jones27 The glue to DBU! Congratulations DBU FOR LIFE #irvingtontuff #Rutgers #RU https://t.co/ebOtGBxga42022-03-25 19:14:10+00:00\n",
      "RT @RutgersRivals: 🎦NEW VIDEO🎦\n",
      "\n",
      "#Rutgers DC @coachharasymiak met with the media today to discuss his journey to #RU, return to NJ and more.…2022-03-24 17:41:13+00:00\n",
      "🎦NEW VIDEO🎦\n",
      "\n",
      "#Rutgers DC @coachharasymiak met with the media today to discuss his journey to #RU, return to NJ and more. \n",
      "\n",
      "https://t.co/o75Jfr2yT12022-03-24 17:40:43+00:00\n",
      "Wearing my Rutgers super fan costume at #MarchMadness was the best decision ever. Met the #TexasTech hero that created their mascot in the 70's and their mascot in the 80's. Great people. Great times. #Rutgers #RU https://t.co/NRzY5yNof32022-03-21 05:54:43+00:00\n",
      "A real fan will still rock the gear the day after #RU #Rutgers #rutgersbasketball https://t.co/8jumDJBxLv2022-03-17 12:28:21+00:00\n",
      "How many OTs can a game have? I already lost an hour of sleep this week!!! #rutgers #RU\n",
      "\n",
      "** Also my cable crapped out at the end of reg and I've been watching the live tweets for info!!2022-03-17 03:57:44+00:00\n",
      "RT @C_MoSports: RON HARPER JUNYAAHHH #RU #MarchMadness #RUTGERS  https://t.co/vVCQn0IAsp2022-03-17 03:51:29+00:00\n",
      "How #RU #Rutgers2022-03-17 03:49:10+00:00\n",
      "RON HARPER JUNYAAHHH #RU #MarchMadness #RUTGERS  https://t.co/vVCQn0IAsp2022-03-17 03:47:51+00:00\n",
      "Can we please stop giving up layups #Rutgers #RU https://t.co/inNsvERuLy2022-03-17 03:08:56+00:00\n",
      "Let's Go #Rutgers! #RU #OnTheBanks \n",
      "#FirstFour2022-03-17 01:19:36+00:00\n",
      "@Muzixndmd 😂😂 i am so excited, im freakin out 😬😬😊😉😮😜😂\n",
      "\n",
      "#Rutgers #RU @RutgersMBB2022-03-17 00:29:11+00:00\n",
      "These refs for RU - Iowa have been fucking awful. Iowa was the better team but, what egos these refs have and I'm pretty sure they took Iowa -7. The calls were atrocious. Just absolutley awful officiating has to be the worst part of college basketball #Rutgers #Iowa #Big10 #RU2022-03-11 21:19:56+00:00\n",
      "RT @HueysKnightClub: TONIGHT! Let’s get loud for @RutgersMBB and keep voting for #barstoolbestbar! #BestBarHueys #BigTenChampionship #ru #r…2022-03-11 14:59:09+00:00\n",
      "RT @HueysKnightClub: TONIGHT! Let’s get loud for @RutgersMBB and keep voting for #barstoolbestbar! #BestBarHueys #BigTenChampionship #ru #r…2022-03-11 01:43:49+00:00\n",
      "RT @HueysKnightClub: TONIGHT! Let’s get loud for @RutgersMBB and keep voting for #barstoolbestbar! #BestBarHueys #BigTenChampionship #ru #r…2022-03-11 01:29:13+00:00\n",
      "https://t.co/R6s8sCC9xB \n",
      "\n",
      "#RU #rutgers #rutgersbasketball #bracketology #brackets #ncaab #bubbleteams2022-03-10 23:24:39+00:00\n",
      "RT @HueysKnightClub: TONIGHT! Let’s get loud for @RutgersMBB and keep voting for #barstoolbestbar! #BestBarHueys #BigTenChampionship #ru #r…2022-03-10 22:42:31+00:00\n",
      "RT @HueysKnightClub: TONIGHT! Let’s get loud for @RutgersMBB and keep voting for #barstoolbestbar! #BestBarHueys #BigTenChampionship #ru #r…2022-03-10 21:51:02+00:00\n",
      "RT @HueysKnightClub: TONIGHT! Let’s get loud for @RutgersMBB and keep voting for #barstoolbestbar! #BestBarHueys #BigTenChampionship #ru #r…2022-03-10 21:50:28+00:00\n",
      "RT @HueysKnightClub: TONIGHT! Let’s get loud for @RutgersMBB and keep voting for #barstoolbestbar! #BestBarHueys #BigTenChampionship #ru #r…2022-03-10 21:49:43+00:00\n",
      "RT @HueysKnightClub: TONIGHT! Let’s get loud for @RutgersMBB and keep voting for #barstoolbestbar! #BestBarHueys #BigTenChampionship #ru #r…2022-03-10 21:46:32+00:00\n",
      "RT @HueysKnightClub: TONIGHT! Let’s get loud for @RutgersMBB and keep voting for #barstoolbestbar! #BestBarHueys #BigTenChampionship #ru #r…2022-03-10 21:44:32+00:00\n",
      "TONIGHT! Let’s get loud for @RutgersMBB and keep voting for #barstoolbestbar! #BestBarHueys #BigTenChampionship #ru #rutgers #B1GMBBall #B1G #beatiowa https://t.co/3rCh66pz8L2022-03-10 21:40:36+00:00\n",
      "Come on @RutgersMBB don’t blow this game!! Let’s go #RU #Rutgers2022-03-06 18:53:58+00:00\n",
      "RAC is gonna be rockin’! \n",
      "\n",
      "#GardenStatement #Rutgers #RU #PoundNails #CHOP #BeatPennState #MarchMadness2022-03-06 16:27:25+00:00\n",
      "RT @RutgersRivals: Follow along with fellow #Rutgers Wrestling fans on our FREE #RU Wrestling message board linked below. \n",
      "\n",
      "🔗 -- https://t.…2022-03-05 17:15:39+00:00\n",
      "Follow along with fellow #Rutgers Wrestling fans on our FREE #RU Wrestling message board linked below. \n",
      "\n",
      "🔗 -- https://t.co/W1Mub9Y75s https://t.co/uVQW1jEW1N2022-03-05 16:27:03+00:00\n",
      "@RCourtClub @lukenathan33 #RutgersMBB used to be that guaranteed win so why not schedule it for Senior Day. \n",
      "\n",
      "- Not No More. \n",
      "\n",
      "Doesn’t get much better than going into someone else’s house and beating them on their own floor. \n",
      "\n",
      "Love Road Wins\n",
      "\n",
      "#Rutgers #RU #RUHoops2022-03-05 10:55:08+00:00\n",
      "My favorite part of #Rutgers upset wins is when fans dig up old tweets of people dogging #RU2022-03-03 15:59:32+00:00\n",
      ". @__RHJR  take that bow.... take your well deserved bow #RU #Rutgers https://t.co/arHwMcNPAc2022-03-03 02:16:24+00:00\n",
      "@RutgersMBB @__RHJR Let’s goooooooo!!!! @__RHJR is da man!!! Lets go #RU #Rutgers #ScarletKnights @RutgersMBB2022-03-03 02:11:36+00:00\n",
      "#Rutgershats #RUvsIND \n",
      "66-63!!!! Rutgers!!!!!!!! #Rutgers @RutgersMBB #RU https://t.co/x2kPURHxuW2022-03-03 02:11:29+00:00\n",
      "RT @NYPost_Serby: #RonHarperJr . on #MarchMadness push, dad's shadow, #Rutgers legacy #RU  https://t.co/DK1ZzdO2Ws2022-02-26 19:56:03+00:00\n",
      "#RonHarperJr . on #MarchMadness push, dad's shadow, #Rutgers legacy #RU  https://t.co/DK1ZzdO2Ws2022-02-26 19:55:19+00:00\n",
      "RT @CusserMother: Why the cuss isn't @RutgersMBB ranked after beating 4 ranked teams in a row?!? \n",
      "#RU #GardenStatement #Rutgers #Big102022-02-20 23:14:53+00:00\n",
      "Why the cuss isn't @RutgersMBB ranked after beating 4 ranked teams in a row?!? \n",
      "#RU #GardenStatement #Rutgers #Big102022-02-20 23:14:29+00:00\n",
      "#Rutgers Center Clifford Omoruyi posterizes #Purdue Center Zach Edey with the monster dunk #RU down 30-242022-02-20 23:01:18+00:00\n",
      "#Rutgers (16-9, 10-5) 4-wins vs. top-25 for in a row. 5-top-25 wins this season. #Illinois shot just 37% FG and 26% 3-pt. RU took advantage of IL missed shots, outrebounded IL 46-28 . Great all around performance by #RU starters. Need to see more from inconsistent Geo Baker #B1G2022-02-17 15:25:26+00:00\n",
      "Them boys are ballin’! Ranked reapers!  #Rutgers #RU #NJ2022-02-17 02:06:54+00:00\n",
      "Will keep saying it. Go look at NCAA tournament of #Rutgers compared to Iowa, Michigan, Michigan State and even Ohio State. It's not even close. So many more quality wins for #RU. Oh, Rutgers also beat all those teams.\n",
      "\n",
      "#ScarletKnights\n",
      "#RAC2022-02-17 01:41:47+00:00\n",
      "Im probably about a mile away and I could hear the screaming from the  RAC after that shot #Rutgers #RU2022-02-17 01:36:15+00:00\n",
      "#PoundNails\n",
      "\n",
      "#RU #RHoops #Rutgers #CBB #MBB #CHOP https://t.co/did51zk2Ix2022-02-17 00:49:58+00:00\n",
      "RT @RutgersRivals: #Rutgers Hoops does it again to win defeat No. 14 #Wisconsin, this was #RU's third ranked win in a row.\n",
      "\n",
      "https://t.co/KK…2022-02-12 21:56:36+00:00\n",
      "RT @RutgersRivals: #Rutgers Hoops does it again to win defeat No. 14 #Wisconsin, this was #RU's third ranked win in a row.\n",
      "\n",
      "https://t.co/KK…2022-02-12 21:36:19+00:00\n",
      "#Rutgers Hoops does it again to win defeat No. 14 #Wisconsin, this was #RU's third ranked win in a row.\n",
      "\n",
      "https://t.co/KKgB4ste342022-02-12 21:19:56+00:00\n",
      "Rutgers history, beating 3 Top 25 ranked teams consecutively\n",
      "\n",
      "#Rutgers #RU2022-02-12 21:11:53+00:00\n",
      "Let’s go #RU #Rutgers #ScarletKnights @RutgersMBB https://t.co/sadAwIlQIm2022-02-10 02:37:31+00:00\n",
      "RT @McQueenSports: #Rutgers defeats #OhioState 66-64. Another huge home win vs. a ranked #BigTen opponent. First #Purdue, then #MSU and now…2022-02-10 02:18:48+00:00\n",
      "#Rutgers defeats #OhioState 66-64. Another huge home win vs. a ranked #BigTen opponent. First #Purdue, then #MSU and now #OSU. Geo Baker led the way with 25-pts for #RU #NCAAB #CBB #B1G https://t.co/ve3EfNghDv2022-02-10 02:07:39+00:00\n",
      "Great article on Rutgers Basketball's @caleb_mcco\n",
      "#Rutgers #RU\n",
      "https://t.co/KJiMYzEudA2022-02-08 18:04:14+00:00\n",
      "Father Mulcahy is on fire today! Well done, Padre! 🏀 #RU @RutgersMBB #Rutgers @paulmulcahy_3 https://t.co/ViqYfG5bGr2022-02-05 23:05:03+00:00\n",
      "#RUvsNEB #Rutgers @RURec @RutgersMBB #RU \n",
      "Rutgers Wins! https://t.co/uKy0k0vv2w2022-01-30 02:08:45+00:00\n",
      "I legit have no idea how we won that game #Rutgers #RU #RUMBB2022-01-30 01:57:36+00:00\n",
      "Nothing like appreciating the finer details of a dog up-close! 🤤 🌭\n",
      "\n",
      "📸 @DestinationDogs \n",
      "\n",
      "#destinationdogs #rutgers #ru #goru #rutgersuniversity #hotdog #food #hotdogs #burger #foodporn #instafood #foodie #hotdoglovers #foodphotography #njisntboring #thingstodo #nj https://t.co/eSYzRXGXjb2022-01-20 22:01:17+00:00\n",
      "RT @RivalsRichie: BIG hit to #Rutgers WRs room, as O'Neal caught two touchdowns over the past two years for #RU.2022-01-20 21:10:19+00:00\n",
      "RT @RivalsRichie: BIG hit to #Rutgers WRs room, as O'Neal caught two touchdowns over the past two years for #RU.2022-01-20 20:39:53+00:00\n",
      "RT @RivalsRichie: BIG hit to #Rutgers WRs room, as O'Neal caught two touchdowns over the past two years for #RU.2022-01-20 19:52:18+00:00\n",
      "RT @RivalsRichie: BIG hit to #Rutgers WRs room, as O'Neal caught two touchdowns over the past two years for #RU.2022-01-20 19:37:50+00:00\n",
      "BIG hit to #Rutgers WRs room, as O'Neal caught two touchdowns over the past two years for #RU. https://t.co/gn1iW8nfJi2022-01-20 19:35:13+00:00\n",
      "My type of Pizza 🍕😋 \n",
      "\n",
      "📸 @marycello707 at @Panicosrestaurant.com \n",
      "Order online at https://t.co/fVkISy6bQ8 or call 732-545-6161 for delivery, pick-up, or to dine-in!⠀\n",
      "\n",
      "#NewBrunswickNJ #Rutgers #RU #NJ #Foodie #pizza  food #pizzalover #pizzatime #instafood #italianfood #pasta https://t.co/Mc8i2secxx2022-01-18 19:55:02+00:00\n",
      "#Rutgers #basketball fans. After the program turned around and won an NCAA tournament game, why did Jacob Young and Myles Johnson transfer? They could have been quite good this season.\n",
      "\n",
      "#RU\n",
      "#RAC\n",
      "#ScarletKnights2022-01-14 18:03:02+00:00\n",
      "#RUtgers #Rutgers @RFootball #RU \n",
      "#knightclub #middlesex #MCC \n",
      "@MiddlesexUni  \n",
      "\n",
      "REAL TREASURE HUNT.   \n",
      "\n",
      "#FREE #teams #win #money #crypto https://t.co/SZ1h8h4nnR2022-01-13 00:10:42+00:00\n",
      "#rutgers #scarletknights @RutgersU #RU \n",
      "#eastonAve @middlesex_cc #MCC \n",
      "#JerseyCity #jersey4sale \n",
      "\n",
      "FIND THIS APES TREASURE. \n",
      "\n",
      "For real, gather your friends and open this MF VAULT!!!!!! https://t.co/UfIEoQVgE12022-01-13 00:08:58+00:00\n",
      "RT @RUSCIAA: #HappyNewYear from “R” #alumni family to yours! 🎇 #Rutgers #RU #SCIAA2022-01-01 21:59:31+00:00\n",
      "RT @RUSCIAA: #HappyNewYear from “R” #alumni family to yours! 🎇 #Rutgers #RU #SCIAA2022-01-01 06:48:56+00:00\n",
      "#HappyNewYear from “R” #alumni family to yours! 🎇 #Rutgers #RU #SCIAA2022-01-01 06:40:27+00:00\n",
      "WHAT EVEN IS A SAFETY IF THAT WASN'T IT?? #GatorBowl #Rutgers #WakeForest #RU #RUFOOTBALL2021-12-31 17:23:15+00:00\n",
      "10 minutes until kickoff and ESPN isn't even discussing the game.\n",
      "#Rutgers #RU #TaxSlayerGatorBowl #GatorBowl2021-12-31 15:57:53+00:00\n",
      "RT @NBCityCenter: Game Week🪓  \n",
      "\n",
      " @RFootball takes on Wake Forest for this Friday's Bowl Game beginning at 11am‼ \n",
      "\n",
      "#GoRU #NewBrunswickNJ #ne…2021-12-28 22:05:25+00:00\n",
      "Game Week🪓  \n",
      "\n",
      " @RFootball takes on Wake Forest for this Friday's Bowl Game beginning at 11am‼ \n",
      "\n",
      "#GoRU #NewBrunswickNJ #newjersey #centraljersey #centralNJ #rutgers #RUNATION #newjersey #rutgersuniversity #ru #newbrunswick #msu #fdu #nj #mcc #hubcity #njcollege #rutgersfootball https://t.co/5WXu5brqbP2021-12-28 20:01:28+00:00\n",
      "🎶 Santa Dog is coming to Town 🎶\n",
      "\n",
      "📸 @destinationdogs\n",
      "\n",
      "#destinationdogs #rutgers #ru #goru #rutgersuniversity #hotdog #food #hotdogs #burger #foodporn #instafood #foodie #hotdoglovers #njisntboring #thingstodo #nj #newjersey #newbrunswick #newbrunswicknj #njeats #njfoodie https://t.co/8TeVN0RTAn2021-12-23 18:05:06+00:00\n",
      "RT @CJ_SmithGraphix: @23J_Taylor Jonathan Taylor Rutgers [COMMITTED] edit.  #smithgraphix #rutgers #ru #reppingjerseyinnj #committed #rb ht…2021-12-23 04:44:00+00:00\n",
      "RT @CJ_SmithGraphix: @23J_Taylor Jonathan Taylor Rutgers [COMMITTED] edit.  #smithgraphix #rutgers #ru #reppingjerseyinnj #committed #rb ht…2021-12-23 04:42:10+00:00\n",
      "RT @RutgersRivals: BREAKING: #Rutgers Baseball lands JUCO LHP Grant Besser out of Florida Southwestern. He is signed and will join the 2022…2021-12-17 16:42:59+00:00\n",
      "RT @RutgersRivals: BREAKING: #Rutgers Baseball lands JUCO LHP Grant Besser out of Florida Southwestern. He is signed and will join the 2022…2021-12-17 02:12:50+00:00\n",
      "RT @RutgersRivals: BREAKING: #Rutgers Baseball lands JUCO LHP Grant Besser out of Florida Southwestern. He is signed and will join the 2022…2021-12-17 02:11:11+00:00\n",
      "RT @RutgersRivals: BREAKING: #Rutgers Baseball lands JUCO LHP Grant Besser out of Florida Southwestern. He is signed and will join the 2022…2021-12-16 22:25:15+00:00\n",
      "RT @RutgersRivals: BREAKING: #Rutgers Baseball lands JUCO LHP Grant Besser out of Florida Southwestern. He is signed and will join the 2022…2021-12-16 21:44:26+00:00\n",
      "RT @RutgersRivals: BREAKING: #Rutgers Baseball lands JUCO LHP Grant Besser out of Florida Southwestern. He is signed and will join the 2022…2021-12-16 21:00:45+00:00\n",
      "RT @RutgersRivals: BREAKING: #Rutgers Baseball lands JUCO LHP Grant Besser out of Florida Southwestern. He is signed and will join the 2022…2021-12-16 20:20:23+00:00\n",
      "RT @RutgersRivals: BREAKING: #Rutgers Baseball lands JUCO LHP Grant Besser out of Florida Southwestern. He is signed and will join the 2022…2021-12-16 19:34:35+00:00\n",
      "RT @RutgersRivals: BREAKING: #Rutgers Baseball lands JUCO LHP Grant Besser out of Florida Southwestern. He is signed and will join the 2022…2021-12-16 18:50:33+00:00\n",
      "RT @RutgersRivals: BREAKING: #Rutgers Baseball lands JUCO LHP Grant Besser out of Florida Southwestern. He is signed and will join the 2022…2021-12-16 18:50:23+00:00\n",
      "BREAKING: #Rutgers Baseball lands JUCO LHP Grant Besser out of Florida Southwestern. He is signed and will join the 2022 #RU recruiting class.\n",
      "\n",
      "Stay tuned for more via @Hector_Baseball on https://t.co/wegN4qFyhs https://t.co/35g3VUARuv2021-12-16 18:49:18+00:00\n",
      "RT @RutgersRivals: The Jersey Boy stays home as #RU legacy TE Michael Higgins signs with #Rutgers Football\n",
      "\n",
      "@Mike_Higgins88 | @blairbucs |…2021-12-15 21:40:24+00:00\n",
      "RT @RutgersRivals: The Jersey Boy stays home as #RU legacy TE Michael Higgins signs with #Rutgers Football\n",
      "\n",
      "@Mike_Higgins88 | @blairbucs |…2021-12-15 17:27:55+00:00\n"
     ]
    },
    {
     "ename": "TooManyRequests",
     "evalue": "429 Too Many Requests\nToo Many Requests",
     "output_type": "error",
     "traceback": [
      "\u001b[1;31m---------------------------------------------------------------------------\u001b[0m",
      "\u001b[1;31mTooManyRequests\u001b[0m                           Traceback (most recent call last)",
      "Input \u001b[1;32mIn [106]\u001b[0m, in \u001b[0;36m<cell line: 6>\u001b[1;34m()\u001b[0m\n\u001b[0;32m      4\u001b[0m start_time \u001b[38;5;241m=\u001b[39m\u001b[38;5;124m'\u001b[39m\u001b[38;5;124m2017-01-01T00:00:00Z\u001b[39m\u001b[38;5;124m'\u001b[39m\n\u001b[0;32m      5\u001b[0m end_time \u001b[38;5;241m=\u001b[39m \u001b[38;5;124m'\u001b[39m\u001b[38;5;124m2022-04-01T00:00:00Z\u001b[39m\u001b[38;5;124m'\u001b[39m\n\u001b[1;32m----> 6\u001b[0m \u001b[38;5;28;01mfor\u001b[39;00m tweet \u001b[38;5;129;01min\u001b[39;00m  tweepy\u001b[38;5;241m.\u001b[39mPaginator(client\u001b[38;5;241m.\u001b[39msearch_all_tweets, query\u001b[38;5;241m=\u001b[39mquery,tweet_fields \u001b[38;5;241m=\u001b[39m [\u001b[38;5;124m'\u001b[39m\u001b[38;5;124mcontext_annotations\u001b[39m\u001b[38;5;124m'\u001b[39m, \u001b[38;5;124m'\u001b[39m\u001b[38;5;124mcreated_at\u001b[39m\u001b[38;5;124m'\u001b[39m], start_time\u001b[38;5;241m=\u001b[39mstart_time, end_time\u001b[38;5;241m=\u001b[39mend_time, max_results\u001b[38;5;241m=\u001b[39m\u001b[38;5;241m100\u001b[39m)\u001b[38;5;241m.\u001b[39mflatten(limit\u001b[38;5;241m=\u001b[39m\u001b[38;5;241m1000\u001b[39m):\n\u001b[0;32m      7\u001b[0m     \u001b[38;5;28mprint\u001b[39m(\u001b[38;5;28mstr\u001b[39m(tweet\u001b[38;5;241m.\u001b[39mtext) \u001b[38;5;241m+\u001b[39m \u001b[38;5;28mstr\u001b[39m(tweet\u001b[38;5;241m.\u001b[39mcreated_at))\n",
      "File \u001b[1;32m~\\miniconda3\\envs\\py3.8\\lib\\site-packages\\tweepy\\pagination.py:48\u001b[0m, in \u001b[0;36mPaginator.flatten\u001b[1;34m(self, limit)\u001b[0m\n\u001b[0;32m     45\u001b[0m     \u001b[38;5;28;01mreturn\u001b[39;00m\n\u001b[0;32m     47\u001b[0m count \u001b[38;5;241m=\u001b[39m \u001b[38;5;241m0\u001b[39m\n\u001b[1;32m---> 48\u001b[0m \u001b[38;5;28;01mfor\u001b[39;00m response \u001b[38;5;129;01min\u001b[39;00m PaginationIterator(\u001b[38;5;28mself\u001b[39m\u001b[38;5;241m.\u001b[39mmethod, \u001b[38;5;241m*\u001b[39m\u001b[38;5;28mself\u001b[39m\u001b[38;5;241m.\u001b[39margs,\n\u001b[0;32m     49\u001b[0m                                    \u001b[38;5;241m*\u001b[39m\u001b[38;5;241m*\u001b[39m\u001b[38;5;28mself\u001b[39m\u001b[38;5;241m.\u001b[39mkwargs):\n\u001b[0;32m     50\u001b[0m     \u001b[38;5;28;01mif\u001b[39;00m response\u001b[38;5;241m.\u001b[39mdata \u001b[38;5;129;01mis\u001b[39;00m \u001b[38;5;129;01mnot\u001b[39;00m \u001b[38;5;28;01mNone\u001b[39;00m:\n\u001b[0;32m     51\u001b[0m         \u001b[38;5;28;01mfor\u001b[39;00m data \u001b[38;5;129;01min\u001b[39;00m response\u001b[38;5;241m.\u001b[39mdata:\n",
      "File \u001b[1;32m~\\miniconda3\\envs\\py3.8\\lib\\site-packages\\tweepy\\pagination.py:98\u001b[0m, in \u001b[0;36mPaginationIterator.__next__\u001b[1;34m(self)\u001b[0m\n\u001b[0;32m     95\u001b[0m \u001b[38;5;28;01melse\u001b[39;00m:\n\u001b[0;32m     96\u001b[0m     \u001b[38;5;28mself\u001b[39m\u001b[38;5;241m.\u001b[39mkwargs[\u001b[38;5;124m\"\u001b[39m\u001b[38;5;124mpagination_token\u001b[39m\u001b[38;5;124m\"\u001b[39m] \u001b[38;5;241m=\u001b[39m pagination_token\n\u001b[1;32m---> 98\u001b[0m response \u001b[38;5;241m=\u001b[39m \u001b[38;5;28;43mself\u001b[39;49m\u001b[38;5;241;43m.\u001b[39;49m\u001b[43mmethod\u001b[49m\u001b[43m(\u001b[49m\u001b[38;5;241;43m*\u001b[39;49m\u001b[38;5;28;43mself\u001b[39;49m\u001b[38;5;241;43m.\u001b[39;49m\u001b[43margs\u001b[49m\u001b[43m,\u001b[49m\u001b[43m \u001b[49m\u001b[38;5;241;43m*\u001b[39;49m\u001b[38;5;241;43m*\u001b[39;49m\u001b[38;5;28;43mself\u001b[39;49m\u001b[38;5;241;43m.\u001b[39;49m\u001b[43mkwargs\u001b[49m\u001b[43m)\u001b[49m\n\u001b[0;32m    100\u001b[0m \u001b[38;5;28mself\u001b[39m\u001b[38;5;241m.\u001b[39mprevious_token \u001b[38;5;241m=\u001b[39m response\u001b[38;5;241m.\u001b[39mmeta\u001b[38;5;241m.\u001b[39mget(\u001b[38;5;124m\"\u001b[39m\u001b[38;5;124mprevious_token\u001b[39m\u001b[38;5;124m\"\u001b[39m)\n\u001b[0;32m    101\u001b[0m \u001b[38;5;28mself\u001b[39m\u001b[38;5;241m.\u001b[39mnext_token \u001b[38;5;241m=\u001b[39m response\u001b[38;5;241m.\u001b[39mmeta\u001b[38;5;241m.\u001b[39mget(\u001b[38;5;124m\"\u001b[39m\u001b[38;5;124mnext_token\u001b[39m\u001b[38;5;124m\"\u001b[39m)\n",
      "File \u001b[1;32m~\\miniconda3\\envs\\py3.8\\lib\\site-packages\\tweepy\\client.py:1145\u001b[0m, in \u001b[0;36mClient.search_all_tweets\u001b[1;34m(self, query, **params)\u001b[0m\n\u001b[0;32m   1053\u001b[0m \u001b[38;5;124;03m\"\"\"search_all_tweets( \\\u001b[39;00m\n\u001b[0;32m   1054\u001b[0m \u001b[38;5;124;03m    query, *, end_time=None, expansions=None, max_results=None, \\\u001b[39;00m\n\u001b[0;32m   1055\u001b[0m \u001b[38;5;124;03m    media_fields=None, next_token=None, place_fields=None, \\\u001b[39;00m\n\u001b[1;32m   (...)\u001b[0m\n\u001b[0;32m   1142\u001b[0m \u001b[38;5;124;03m.. _pagination: https://developer.twitter.com/en/docs/twitter-api/tweets/search/integrate/paginate\u001b[39;00m\n\u001b[0;32m   1143\u001b[0m \u001b[38;5;124;03m\"\"\"\u001b[39;00m\n\u001b[0;32m   1144\u001b[0m params[\u001b[38;5;124m\"\u001b[39m\u001b[38;5;124mquery\u001b[39m\u001b[38;5;124m\"\u001b[39m] \u001b[38;5;241m=\u001b[39m query\n\u001b[1;32m-> 1145\u001b[0m \u001b[38;5;28;01mreturn\u001b[39;00m \u001b[38;5;28;43mself\u001b[39;49m\u001b[38;5;241;43m.\u001b[39;49m\u001b[43m_make_request\u001b[49m\u001b[43m(\u001b[49m\n\u001b[0;32m   1146\u001b[0m \u001b[43m    \u001b[49m\u001b[38;5;124;43m\"\u001b[39;49m\u001b[38;5;124;43mGET\u001b[39;49m\u001b[38;5;124;43m\"\u001b[39;49m\u001b[43m,\u001b[49m\u001b[43m \u001b[49m\u001b[38;5;124;43m\"\u001b[39;49m\u001b[38;5;124;43m/2/tweets/search/all\u001b[39;49m\u001b[38;5;124;43m\"\u001b[39;49m\u001b[43m,\u001b[49m\u001b[43m \u001b[49m\u001b[43mparams\u001b[49m\u001b[38;5;241;43m=\u001b[39;49m\u001b[43mparams\u001b[49m\u001b[43m,\u001b[49m\n\u001b[0;32m   1147\u001b[0m \u001b[43m    \u001b[49m\u001b[43mendpoint_parameters\u001b[49m\u001b[38;5;241;43m=\u001b[39;49m\u001b[43m(\u001b[49m\n\u001b[0;32m   1148\u001b[0m \u001b[43m        \u001b[49m\u001b[38;5;124;43m\"\u001b[39;49m\u001b[38;5;124;43mend_time\u001b[39;49m\u001b[38;5;124;43m\"\u001b[39;49m\u001b[43m,\u001b[49m\u001b[43m \u001b[49m\u001b[38;5;124;43m\"\u001b[39;49m\u001b[38;5;124;43mexpansions\u001b[39;49m\u001b[38;5;124;43m\"\u001b[39;49m\u001b[43m,\u001b[49m\u001b[43m \u001b[49m\u001b[38;5;124;43m\"\u001b[39;49m\u001b[38;5;124;43mmax_results\u001b[39;49m\u001b[38;5;124;43m\"\u001b[39;49m\u001b[43m,\u001b[49m\u001b[43m \u001b[49m\u001b[38;5;124;43m\"\u001b[39;49m\u001b[38;5;124;43mmedia.fields\u001b[39;49m\u001b[38;5;124;43m\"\u001b[39;49m\u001b[43m,\u001b[49m\n\u001b[0;32m   1149\u001b[0m \u001b[43m        \u001b[49m\u001b[38;5;124;43m\"\u001b[39;49m\u001b[38;5;124;43mnext_token\u001b[39;49m\u001b[38;5;124;43m\"\u001b[39;49m\u001b[43m,\u001b[49m\u001b[43m \u001b[49m\u001b[38;5;124;43m\"\u001b[39;49m\u001b[38;5;124;43mplace.fields\u001b[39;49m\u001b[38;5;124;43m\"\u001b[39;49m\u001b[43m,\u001b[49m\u001b[43m \u001b[49m\u001b[38;5;124;43m\"\u001b[39;49m\u001b[38;5;124;43mpoll.fields\u001b[39;49m\u001b[38;5;124;43m\"\u001b[39;49m\u001b[43m,\u001b[49m\u001b[43m \u001b[49m\u001b[38;5;124;43m\"\u001b[39;49m\u001b[38;5;124;43mquery\u001b[39;49m\u001b[38;5;124;43m\"\u001b[39;49m\u001b[43m,\u001b[49m\n\u001b[0;32m   1150\u001b[0m \u001b[43m        \u001b[49m\u001b[38;5;124;43m\"\u001b[39;49m\u001b[38;5;124;43msince_id\u001b[39;49m\u001b[38;5;124;43m\"\u001b[39;49m\u001b[43m,\u001b[49m\u001b[43m \u001b[49m\u001b[38;5;124;43m\"\u001b[39;49m\u001b[38;5;124;43msort_order\u001b[39;49m\u001b[38;5;124;43m\"\u001b[39;49m\u001b[43m,\u001b[49m\u001b[43m \u001b[49m\u001b[38;5;124;43m\"\u001b[39;49m\u001b[38;5;124;43mstart_time\u001b[39;49m\u001b[38;5;124;43m\"\u001b[39;49m\u001b[43m,\u001b[49m\u001b[43m \u001b[49m\u001b[38;5;124;43m\"\u001b[39;49m\u001b[38;5;124;43mtweet.fields\u001b[39;49m\u001b[38;5;124;43m\"\u001b[39;49m\u001b[43m,\u001b[49m\n\u001b[0;32m   1151\u001b[0m \u001b[43m        \u001b[49m\u001b[38;5;124;43m\"\u001b[39;49m\u001b[38;5;124;43muntil_id\u001b[39;49m\u001b[38;5;124;43m\"\u001b[39;49m\u001b[43m,\u001b[49m\u001b[43m \u001b[49m\u001b[38;5;124;43m\"\u001b[39;49m\u001b[38;5;124;43muser.fields\u001b[39;49m\u001b[38;5;124;43m\"\u001b[39;49m\n\u001b[0;32m   1152\u001b[0m \u001b[43m    \u001b[49m\u001b[43m)\u001b[49m\u001b[43m,\u001b[49m\u001b[43m \u001b[49m\u001b[43mdata_type\u001b[49m\u001b[38;5;241;43m=\u001b[39;49m\u001b[43mTweet\u001b[49m\n\u001b[0;32m   1153\u001b[0m \u001b[43m\u001b[49m\u001b[43m)\u001b[49m\n",
      "File \u001b[1;32m~\\miniconda3\\envs\\py3.8\\lib\\site-packages\\tweepy\\client.py:126\u001b[0m, in \u001b[0;36mBaseClient._make_request\u001b[1;34m(self, method, route, params, endpoint_parameters, json, data_type, user_auth)\u001b[0m\n\u001b[0;32m    122\u001b[0m \u001b[38;5;28;01mdef\u001b[39;00m \u001b[38;5;21m_make_request\u001b[39m(\u001b[38;5;28mself\u001b[39m, method, route, params\u001b[38;5;241m=\u001b[39m{}, endpoint_parameters\u001b[38;5;241m=\u001b[39m\u001b[38;5;28;01mNone\u001b[39;00m,\n\u001b[0;32m    123\u001b[0m                   json\u001b[38;5;241m=\u001b[39m\u001b[38;5;28;01mNone\u001b[39;00m, data_type\u001b[38;5;241m=\u001b[39m\u001b[38;5;28;01mNone\u001b[39;00m, user_auth\u001b[38;5;241m=\u001b[39m\u001b[38;5;28;01mFalse\u001b[39;00m):\n\u001b[0;32m    124\u001b[0m     request_params \u001b[38;5;241m=\u001b[39m \u001b[38;5;28mself\u001b[39m\u001b[38;5;241m.\u001b[39m_process_params(params, endpoint_parameters)\n\u001b[1;32m--> 126\u001b[0m     response \u001b[38;5;241m=\u001b[39m \u001b[38;5;28;43mself\u001b[39;49m\u001b[38;5;241;43m.\u001b[39;49m\u001b[43mrequest\u001b[49m\u001b[43m(\u001b[49m\u001b[43mmethod\u001b[49m\u001b[43m,\u001b[49m\u001b[43m \u001b[49m\u001b[43mroute\u001b[49m\u001b[43m,\u001b[49m\u001b[43m \u001b[49m\u001b[43mparams\u001b[49m\u001b[38;5;241;43m=\u001b[39;49m\u001b[43mrequest_params\u001b[49m\u001b[43m,\u001b[49m\n\u001b[0;32m    127\u001b[0m \u001b[43m                            \u001b[49m\u001b[43mjson\u001b[49m\u001b[38;5;241;43m=\u001b[39;49m\u001b[43mjson\u001b[49m\u001b[43m,\u001b[49m\u001b[43m \u001b[49m\u001b[43muser_auth\u001b[49m\u001b[38;5;241;43m=\u001b[39;49m\u001b[43muser_auth\u001b[49m\u001b[43m)\u001b[49m\n\u001b[0;32m    129\u001b[0m     \u001b[38;5;28;01mif\u001b[39;00m \u001b[38;5;28mself\u001b[39m\u001b[38;5;241m.\u001b[39mreturn_type \u001b[38;5;129;01mis\u001b[39;00m requests\u001b[38;5;241m.\u001b[39mResponse:\n\u001b[0;32m    130\u001b[0m         \u001b[38;5;28;01mreturn\u001b[39;00m response\n",
      "File \u001b[1;32m~\\miniconda3\\envs\\py3.8\\lib\\site-packages\\tweepy\\client.py:114\u001b[0m, in \u001b[0;36mBaseClient.request\u001b[1;34m(self, method, route, params, json, user_auth)\u001b[0m\n\u001b[0;32m    112\u001b[0m         \u001b[38;5;28;01mreturn\u001b[39;00m \u001b[38;5;28mself\u001b[39m\u001b[38;5;241m.\u001b[39mrequest(method, route, params, json, user_auth)\n\u001b[0;32m    113\u001b[0m     \u001b[38;5;28;01melse\u001b[39;00m:\n\u001b[1;32m--> 114\u001b[0m         \u001b[38;5;28;01mraise\u001b[39;00m TooManyRequests(response)\n\u001b[0;32m    115\u001b[0m \u001b[38;5;28;01mif\u001b[39;00m response\u001b[38;5;241m.\u001b[39mstatus_code \u001b[38;5;241m>\u001b[39m\u001b[38;5;241m=\u001b[39m \u001b[38;5;241m500\u001b[39m:\n\u001b[0;32m    116\u001b[0m     \u001b[38;5;28;01mraise\u001b[39;00m TwitterServerError(response)\n",
      "\u001b[1;31mTooManyRequests\u001b[0m: 429 Too Many Requests\nToo Many Requests"
     ]
    }
   ],
   "source": [
    "#test to see if you can scrape\n",
    "\n",
    "query = ['#Rutgers #RU']\n",
    "start_time ='2017-01-01T00:00:00Z'\n",
    "end_time = '2022-04-01T00:00:00Z'\n",
    "for tweet in  tweepy.Paginator(client.search_all_tweets, query=query,tweet_fields = ['context_annotations', 'created_at'], start_time=start_time, end_time=end_time, max_results=100).flatten(limit=1000):\n",
    "    "
   ]
  },
  {
   "cell_type": "code",
   "execution_count": 24,
   "id": "f986953a-6960-41e2-9dc6-502984dd857e",
   "metadata": {},
   "outputs": [],
   "source": [
    "#data\n",
    "hashtags = pd.read_csv('Hashtags.csv', header=0)\n",
    "location = list(hashtags[~hashtags['1'].isna()]['1'])\n",
    "content = list(hashtags[~hashtags['2'].isna()]['2'])\n",
    "#all combos of hashtags\n",
    "\n",
    "hitList = ['#'+str(x)+' '+'#'+str(y) for x in location for y in content]"
   ]
  },
  {
   "cell_type": "code",
   "execution_count": 61,
   "id": "f0fcd3b1-79da-40bb-8545-4083fa2924d6",
   "metadata": {
    "tags": []
   },
   "outputs": [
    {
     "data": {
      "text/plain": [
       "523"
      ]
     },
     "execution_count": 61,
     "metadata": {},
     "output_type": "execute_result"
    }
   ],
   "source": [
    "#create 40 keyword chuncks of the data\n",
    "def divide_chuncks(l,n):\n",
    "    for i in range(0,len(l),n):\n",
    "        yield l[i:i+n]\n",
    "matrix= list(divide_chuncks(hitList,40))"
   ]
  },
  {
   "cell_type": "code",
   "execution_count": 70,
   "id": "166a1f7e-b4f3-4c1e-b066-38a7fa2cbc80",
   "metadata": {},
   "outputs": [
    {
     "name": "stdout",
     "output_type": "stream",
     "text": [
      "<class 'tweepy.errors.TooManyRequests'>\n"
     ]
    }
   ],
   "source": [
    "query = hitList[0]\n",
    "date_since = '2017-01-01'\n",
    "numtweet = 1000\n",
    "print(tweepy.errors.TooManyRequests)"
   ]
  },
  {
   "cell_type": "code",
   "execution_count": 71,
   "id": "89fe9909-25ce-4856-be1c-a073751e0998",
   "metadata": {},
   "outputs": [],
   "source": [
    "def frequests(cursor):\n",
    "    res = []\n",
    "    waiting = False\n",
    "    for tweet in cursor:\n",
    "        if waiting:\n",
    "            if (time.time()-start)>=1:\n",
    "                waiting = False\n",
    "                start= time.time()\n",
    "        try:\n",
    "            res.append(tweet)\n",
    "        except tweepy.errors.TooManyRequests:\n",
    "            print('too many requests')\n",
    "            waiting = True\n",
    "            start = time.time()\n",
    "    return res\n",
    "            \n",
    "    "
   ]
  },
  {
   "cell_type": "code",
   "execution_count": 65,
   "id": "26b3af77-37ad-4f78-bf70-1097b6a1925a",
   "metadata": {},
   "outputs": [
    {
     "name": "stdout",
     "output_type": "stream",
     "text": [
      "0\n",
      "50\n",
      "100\n",
      "150\n",
      "200\n",
      "250\n",
      "300\n",
      "350\n",
      "400\n",
      "450\n",
      "500\n"
     ]
    }
   ],
   "source": [
    "def scraper(matrix,date_since,numtweet):\n",
    "    for l in range(len(matrix)):\n",
    "        if l%50 ==0:\n",
    "            print(l)\n",
    "        \n",
    "scraper(matrix,date_since,numtweet)\n",
    "  "
   ]
  },
  {
   "cell_type": "code",
   "execution_count": 109,
   "id": "06f00b14-a7c4-4bbb-9b8d-ba98e655bd12",
   "metadata": {},
   "outputs": [
    {
     "ename": "KeyboardInterrupt",
     "evalue": "",
     "output_type": "error",
     "traceback": [
      "\u001b[1;31m---------------------------------------------------------------------------\u001b[0m",
      "\u001b[1;31mKeyboardInterrupt\u001b[0m                         Traceback (most recent call last)",
      "Input \u001b[1;32mIn [109]\u001b[0m, in \u001b[0;36m<cell line: 5>\u001b[1;34m()\u001b[0m\n\u001b[0;32m      3\u001b[0m end_time \u001b[38;5;241m=\u001b[39m \u001b[38;5;124m'\u001b[39m\u001b[38;5;124m2022-04-01T00:00:00Z\u001b[39m\u001b[38;5;124m'\u001b[39m\n\u001b[0;32m      4\u001b[0m data \u001b[38;5;241m=\u001b[39m []\n\u001b[1;32m----> 5\u001b[0m \u001b[38;5;28;01mfor\u001b[39;00m response \u001b[38;5;129;01min\u001b[39;00m tweepy\u001b[38;5;241m.\u001b[39mPaginator(client\u001b[38;5;241m.\u001b[39msearch_all_tweets, query\u001b[38;5;241m=\u001b[39mquery, start_time\u001b[38;5;241m=\u001b[39mstart_time, end_time\u001b[38;5;241m=\u001b[39mend_time, max_results\u001b[38;5;241m=\u001b[39m\u001b[38;5;241m500\u001b[39m):\n\u001b[0;32m      6\u001b[0m     \u001b[38;5;28;01mtry\u001b[39;00m:\n\u001b[0;32m      7\u001b[0m         data\u001b[38;5;241m.\u001b[39mappend(response)\n",
      "File \u001b[1;32m~\\miniconda3\\envs\\py3.8\\lib\\site-packages\\tweepy\\pagination.py:98\u001b[0m, in \u001b[0;36mPaginationIterator.__next__\u001b[1;34m(self)\u001b[0m\n\u001b[0;32m     95\u001b[0m \u001b[38;5;28;01melse\u001b[39;00m:\n\u001b[0;32m     96\u001b[0m     \u001b[38;5;28mself\u001b[39m\u001b[38;5;241m.\u001b[39mkwargs[\u001b[38;5;124m\"\u001b[39m\u001b[38;5;124mpagination_token\u001b[39m\u001b[38;5;124m\"\u001b[39m] \u001b[38;5;241m=\u001b[39m pagination_token\n\u001b[1;32m---> 98\u001b[0m response \u001b[38;5;241m=\u001b[39m \u001b[38;5;28;43mself\u001b[39;49m\u001b[38;5;241;43m.\u001b[39;49m\u001b[43mmethod\u001b[49m\u001b[43m(\u001b[49m\u001b[38;5;241;43m*\u001b[39;49m\u001b[38;5;28;43mself\u001b[39;49m\u001b[38;5;241;43m.\u001b[39;49m\u001b[43margs\u001b[49m\u001b[43m,\u001b[49m\u001b[43m \u001b[49m\u001b[38;5;241;43m*\u001b[39;49m\u001b[38;5;241;43m*\u001b[39;49m\u001b[38;5;28;43mself\u001b[39;49m\u001b[38;5;241;43m.\u001b[39;49m\u001b[43mkwargs\u001b[49m\u001b[43m)\u001b[49m\n\u001b[0;32m    100\u001b[0m \u001b[38;5;28mself\u001b[39m\u001b[38;5;241m.\u001b[39mprevious_token \u001b[38;5;241m=\u001b[39m response\u001b[38;5;241m.\u001b[39mmeta\u001b[38;5;241m.\u001b[39mget(\u001b[38;5;124m\"\u001b[39m\u001b[38;5;124mprevious_token\u001b[39m\u001b[38;5;124m\"\u001b[39m)\n\u001b[0;32m    101\u001b[0m \u001b[38;5;28mself\u001b[39m\u001b[38;5;241m.\u001b[39mnext_token \u001b[38;5;241m=\u001b[39m response\u001b[38;5;241m.\u001b[39mmeta\u001b[38;5;241m.\u001b[39mget(\u001b[38;5;124m\"\u001b[39m\u001b[38;5;124mnext_token\u001b[39m\u001b[38;5;124m\"\u001b[39m)\n",
      "File \u001b[1;32m~\\miniconda3\\envs\\py3.8\\lib\\site-packages\\tweepy\\client.py:1145\u001b[0m, in \u001b[0;36mClient.search_all_tweets\u001b[1;34m(self, query, **params)\u001b[0m\n\u001b[0;32m   1053\u001b[0m \u001b[38;5;124;03m\"\"\"search_all_tweets( \\\u001b[39;00m\n\u001b[0;32m   1054\u001b[0m \u001b[38;5;124;03m    query, *, end_time=None, expansions=None, max_results=None, \\\u001b[39;00m\n\u001b[0;32m   1055\u001b[0m \u001b[38;5;124;03m    media_fields=None, next_token=None, place_fields=None, \\\u001b[39;00m\n\u001b[1;32m   (...)\u001b[0m\n\u001b[0;32m   1142\u001b[0m \u001b[38;5;124;03m.. _pagination: https://developer.twitter.com/en/docs/twitter-api/tweets/search/integrate/paginate\u001b[39;00m\n\u001b[0;32m   1143\u001b[0m \u001b[38;5;124;03m\"\"\"\u001b[39;00m\n\u001b[0;32m   1144\u001b[0m params[\u001b[38;5;124m\"\u001b[39m\u001b[38;5;124mquery\u001b[39m\u001b[38;5;124m\"\u001b[39m] \u001b[38;5;241m=\u001b[39m query\n\u001b[1;32m-> 1145\u001b[0m \u001b[38;5;28;01mreturn\u001b[39;00m \u001b[38;5;28;43mself\u001b[39;49m\u001b[38;5;241;43m.\u001b[39;49m\u001b[43m_make_request\u001b[49m\u001b[43m(\u001b[49m\n\u001b[0;32m   1146\u001b[0m \u001b[43m    \u001b[49m\u001b[38;5;124;43m\"\u001b[39;49m\u001b[38;5;124;43mGET\u001b[39;49m\u001b[38;5;124;43m\"\u001b[39;49m\u001b[43m,\u001b[49m\u001b[43m \u001b[49m\u001b[38;5;124;43m\"\u001b[39;49m\u001b[38;5;124;43m/2/tweets/search/all\u001b[39;49m\u001b[38;5;124;43m\"\u001b[39;49m\u001b[43m,\u001b[49m\u001b[43m \u001b[49m\u001b[43mparams\u001b[49m\u001b[38;5;241;43m=\u001b[39;49m\u001b[43mparams\u001b[49m\u001b[43m,\u001b[49m\n\u001b[0;32m   1147\u001b[0m \u001b[43m    \u001b[49m\u001b[43mendpoint_parameters\u001b[49m\u001b[38;5;241;43m=\u001b[39;49m\u001b[43m(\u001b[49m\n\u001b[0;32m   1148\u001b[0m \u001b[43m        \u001b[49m\u001b[38;5;124;43m\"\u001b[39;49m\u001b[38;5;124;43mend_time\u001b[39;49m\u001b[38;5;124;43m\"\u001b[39;49m\u001b[43m,\u001b[49m\u001b[43m \u001b[49m\u001b[38;5;124;43m\"\u001b[39;49m\u001b[38;5;124;43mexpansions\u001b[39;49m\u001b[38;5;124;43m\"\u001b[39;49m\u001b[43m,\u001b[49m\u001b[43m \u001b[49m\u001b[38;5;124;43m\"\u001b[39;49m\u001b[38;5;124;43mmax_results\u001b[39;49m\u001b[38;5;124;43m\"\u001b[39;49m\u001b[43m,\u001b[49m\u001b[43m \u001b[49m\u001b[38;5;124;43m\"\u001b[39;49m\u001b[38;5;124;43mmedia.fields\u001b[39;49m\u001b[38;5;124;43m\"\u001b[39;49m\u001b[43m,\u001b[49m\n\u001b[0;32m   1149\u001b[0m \u001b[43m        \u001b[49m\u001b[38;5;124;43m\"\u001b[39;49m\u001b[38;5;124;43mnext_token\u001b[39;49m\u001b[38;5;124;43m\"\u001b[39;49m\u001b[43m,\u001b[49m\u001b[43m \u001b[49m\u001b[38;5;124;43m\"\u001b[39;49m\u001b[38;5;124;43mplace.fields\u001b[39;49m\u001b[38;5;124;43m\"\u001b[39;49m\u001b[43m,\u001b[49m\u001b[43m \u001b[49m\u001b[38;5;124;43m\"\u001b[39;49m\u001b[38;5;124;43mpoll.fields\u001b[39;49m\u001b[38;5;124;43m\"\u001b[39;49m\u001b[43m,\u001b[49m\u001b[43m \u001b[49m\u001b[38;5;124;43m\"\u001b[39;49m\u001b[38;5;124;43mquery\u001b[39;49m\u001b[38;5;124;43m\"\u001b[39;49m\u001b[43m,\u001b[49m\n\u001b[0;32m   1150\u001b[0m \u001b[43m        \u001b[49m\u001b[38;5;124;43m\"\u001b[39;49m\u001b[38;5;124;43msince_id\u001b[39;49m\u001b[38;5;124;43m\"\u001b[39;49m\u001b[43m,\u001b[49m\u001b[43m \u001b[49m\u001b[38;5;124;43m\"\u001b[39;49m\u001b[38;5;124;43msort_order\u001b[39;49m\u001b[38;5;124;43m\"\u001b[39;49m\u001b[43m,\u001b[49m\u001b[43m \u001b[49m\u001b[38;5;124;43m\"\u001b[39;49m\u001b[38;5;124;43mstart_time\u001b[39;49m\u001b[38;5;124;43m\"\u001b[39;49m\u001b[43m,\u001b[49m\u001b[43m \u001b[49m\u001b[38;5;124;43m\"\u001b[39;49m\u001b[38;5;124;43mtweet.fields\u001b[39;49m\u001b[38;5;124;43m\"\u001b[39;49m\u001b[43m,\u001b[49m\n\u001b[0;32m   1151\u001b[0m \u001b[43m        \u001b[49m\u001b[38;5;124;43m\"\u001b[39;49m\u001b[38;5;124;43muntil_id\u001b[39;49m\u001b[38;5;124;43m\"\u001b[39;49m\u001b[43m,\u001b[49m\u001b[43m \u001b[49m\u001b[38;5;124;43m\"\u001b[39;49m\u001b[38;5;124;43muser.fields\u001b[39;49m\u001b[38;5;124;43m\"\u001b[39;49m\n\u001b[0;32m   1152\u001b[0m \u001b[43m    \u001b[49m\u001b[43m)\u001b[49m\u001b[43m,\u001b[49m\u001b[43m \u001b[49m\u001b[43mdata_type\u001b[49m\u001b[38;5;241;43m=\u001b[39;49m\u001b[43mTweet\u001b[49m\n\u001b[0;32m   1153\u001b[0m \u001b[43m\u001b[49m\u001b[43m)\u001b[49m\n",
      "File \u001b[1;32m~\\miniconda3\\envs\\py3.8\\lib\\site-packages\\tweepy\\client.py:126\u001b[0m, in \u001b[0;36mBaseClient._make_request\u001b[1;34m(self, method, route, params, endpoint_parameters, json, data_type, user_auth)\u001b[0m\n\u001b[0;32m    122\u001b[0m \u001b[38;5;28;01mdef\u001b[39;00m \u001b[38;5;21m_make_request\u001b[39m(\u001b[38;5;28mself\u001b[39m, method, route, params\u001b[38;5;241m=\u001b[39m{}, endpoint_parameters\u001b[38;5;241m=\u001b[39m\u001b[38;5;28;01mNone\u001b[39;00m,\n\u001b[0;32m    123\u001b[0m                   json\u001b[38;5;241m=\u001b[39m\u001b[38;5;28;01mNone\u001b[39;00m, data_type\u001b[38;5;241m=\u001b[39m\u001b[38;5;28;01mNone\u001b[39;00m, user_auth\u001b[38;5;241m=\u001b[39m\u001b[38;5;28;01mFalse\u001b[39;00m):\n\u001b[0;32m    124\u001b[0m     request_params \u001b[38;5;241m=\u001b[39m \u001b[38;5;28mself\u001b[39m\u001b[38;5;241m.\u001b[39m_process_params(params, endpoint_parameters)\n\u001b[1;32m--> 126\u001b[0m     response \u001b[38;5;241m=\u001b[39m \u001b[38;5;28;43mself\u001b[39;49m\u001b[38;5;241;43m.\u001b[39;49m\u001b[43mrequest\u001b[49m\u001b[43m(\u001b[49m\u001b[43mmethod\u001b[49m\u001b[43m,\u001b[49m\u001b[43m \u001b[49m\u001b[43mroute\u001b[49m\u001b[43m,\u001b[49m\u001b[43m \u001b[49m\u001b[43mparams\u001b[49m\u001b[38;5;241;43m=\u001b[39;49m\u001b[43mrequest_params\u001b[49m\u001b[43m,\u001b[49m\n\u001b[0;32m    127\u001b[0m \u001b[43m                            \u001b[49m\u001b[43mjson\u001b[49m\u001b[38;5;241;43m=\u001b[39;49m\u001b[43mjson\u001b[49m\u001b[43m,\u001b[49m\u001b[43m \u001b[49m\u001b[43muser_auth\u001b[49m\u001b[38;5;241;43m=\u001b[39;49m\u001b[43muser_auth\u001b[49m\u001b[43m)\u001b[49m\n\u001b[0;32m    129\u001b[0m     \u001b[38;5;28;01mif\u001b[39;00m \u001b[38;5;28mself\u001b[39m\u001b[38;5;241m.\u001b[39mreturn_type \u001b[38;5;129;01mis\u001b[39;00m requests\u001b[38;5;241m.\u001b[39mResponse:\n\u001b[0;32m    130\u001b[0m         \u001b[38;5;28;01mreturn\u001b[39;00m response\n",
      "File \u001b[1;32m~\\miniconda3\\envs\\py3.8\\lib\\site-packages\\tweepy\\client.py:83\u001b[0m, in \u001b[0;36mBaseClient.request\u001b[1;34m(self, method, route, params, json, user_auth)\u001b[0m\n\u001b[0;32m     74\u001b[0m     headers[\u001b[38;5;124m\"\u001b[39m\u001b[38;5;124mAuthorization\u001b[39m\u001b[38;5;124m\"\u001b[39m] \u001b[38;5;241m=\u001b[39m \u001b[38;5;124mf\u001b[39m\u001b[38;5;124m\"\u001b[39m\u001b[38;5;124mBearer \u001b[39m\u001b[38;5;132;01m{\u001b[39;00m\u001b[38;5;28mself\u001b[39m\u001b[38;5;241m.\u001b[39mbearer_token\u001b[38;5;132;01m}\u001b[39;00m\u001b[38;5;124m\"\u001b[39m\n\u001b[0;32m     76\u001b[0m log\u001b[38;5;241m.\u001b[39mdebug(\n\u001b[0;32m     77\u001b[0m     \u001b[38;5;124mf\u001b[39m\u001b[38;5;124m\"\u001b[39m\u001b[38;5;124mMaking API request: \u001b[39m\u001b[38;5;132;01m{\u001b[39;00mmethod\u001b[38;5;132;01m}\u001b[39;00m\u001b[38;5;124m \u001b[39m\u001b[38;5;132;01m{\u001b[39;00mhost \u001b[38;5;241m+\u001b[39m route\u001b[38;5;132;01m}\u001b[39;00m\u001b[38;5;130;01m\\n\u001b[39;00m\u001b[38;5;124m\"\u001b[39m\n\u001b[0;32m     78\u001b[0m     \u001b[38;5;124mf\u001b[39m\u001b[38;5;124m\"\u001b[39m\u001b[38;5;124mParameters: \u001b[39m\u001b[38;5;132;01m{\u001b[39;00mparams\u001b[38;5;132;01m}\u001b[39;00m\u001b[38;5;130;01m\\n\u001b[39;00m\u001b[38;5;124m\"\u001b[39m\n\u001b[0;32m     79\u001b[0m     \u001b[38;5;124mf\u001b[39m\u001b[38;5;124m\"\u001b[39m\u001b[38;5;124mHeaders: \u001b[39m\u001b[38;5;132;01m{\u001b[39;00mheaders\u001b[38;5;132;01m}\u001b[39;00m\u001b[38;5;130;01m\\n\u001b[39;00m\u001b[38;5;124m\"\u001b[39m\n\u001b[0;32m     80\u001b[0m     \u001b[38;5;124mf\u001b[39m\u001b[38;5;124m\"\u001b[39m\u001b[38;5;124mBody: \u001b[39m\u001b[38;5;132;01m{\u001b[39;00mjson\u001b[38;5;132;01m}\u001b[39;00m\u001b[38;5;124m\"\u001b[39m\n\u001b[0;32m     81\u001b[0m )\n\u001b[1;32m---> 83\u001b[0m \u001b[38;5;28;01mwith\u001b[39;00m \u001b[38;5;28;43mself\u001b[39;49m\u001b[38;5;241;43m.\u001b[39;49m\u001b[43msession\u001b[49m\u001b[38;5;241;43m.\u001b[39;49m\u001b[43mrequest\u001b[49m\u001b[43m(\u001b[49m\n\u001b[0;32m     84\u001b[0m \u001b[43m    \u001b[49m\u001b[43mmethod\u001b[49m\u001b[43m,\u001b[49m\u001b[43m \u001b[49m\u001b[43mhost\u001b[49m\u001b[43m \u001b[49m\u001b[38;5;241;43m+\u001b[39;49m\u001b[43m \u001b[49m\u001b[43mroute\u001b[49m\u001b[43m,\u001b[49m\u001b[43m \u001b[49m\u001b[43mparams\u001b[49m\u001b[38;5;241;43m=\u001b[39;49m\u001b[43mparams\u001b[49m\u001b[43m,\u001b[49m\u001b[43m \u001b[49m\u001b[43mjson\u001b[49m\u001b[38;5;241;43m=\u001b[39;49m\u001b[43mjson\u001b[49m\u001b[43m,\u001b[49m\u001b[43m \u001b[49m\u001b[43mheaders\u001b[49m\u001b[38;5;241;43m=\u001b[39;49m\u001b[43mheaders\u001b[49m\u001b[43m,\u001b[49m\n\u001b[0;32m     85\u001b[0m \u001b[43m    \u001b[49m\u001b[43mauth\u001b[49m\u001b[38;5;241;43m=\u001b[39;49m\u001b[43mauth\u001b[49m\n\u001b[0;32m     86\u001b[0m \u001b[43m\u001b[49m\u001b[43m)\u001b[49m \u001b[38;5;28;01mas\u001b[39;00m response:\n\u001b[0;32m     87\u001b[0m     log\u001b[38;5;241m.\u001b[39mdebug(\n\u001b[0;32m     88\u001b[0m         \u001b[38;5;124m\"\u001b[39m\u001b[38;5;124mReceived API response: \u001b[39m\u001b[38;5;124m\"\u001b[39m\n\u001b[0;32m     89\u001b[0m         \u001b[38;5;124mf\u001b[39m\u001b[38;5;124m\"\u001b[39m\u001b[38;5;132;01m{\u001b[39;00mresponse\u001b[38;5;241m.\u001b[39mstatus_code\u001b[38;5;132;01m}\u001b[39;00m\u001b[38;5;124m \u001b[39m\u001b[38;5;132;01m{\u001b[39;00mresponse\u001b[38;5;241m.\u001b[39mreason\u001b[38;5;132;01m}\u001b[39;00m\u001b[38;5;130;01m\\n\u001b[39;00m\u001b[38;5;124m\"\u001b[39m\n\u001b[0;32m     90\u001b[0m         \u001b[38;5;124mf\u001b[39m\u001b[38;5;124m\"\u001b[39m\u001b[38;5;124mHeaders: \u001b[39m\u001b[38;5;132;01m{\u001b[39;00mresponse\u001b[38;5;241m.\u001b[39mheaders\u001b[38;5;132;01m}\u001b[39;00m\u001b[38;5;130;01m\\n\u001b[39;00m\u001b[38;5;124m\"\u001b[39m\n\u001b[0;32m     91\u001b[0m         \u001b[38;5;124mf\u001b[39m\u001b[38;5;124m\"\u001b[39m\u001b[38;5;124mContent: \u001b[39m\u001b[38;5;132;01m{\u001b[39;00mresponse\u001b[38;5;241m.\u001b[39mcontent\u001b[38;5;132;01m}\u001b[39;00m\u001b[38;5;124m\"\u001b[39m\n\u001b[0;32m     92\u001b[0m     )\n\u001b[0;32m     94\u001b[0m     \u001b[38;5;28;01mif\u001b[39;00m response\u001b[38;5;241m.\u001b[39mstatus_code \u001b[38;5;241m==\u001b[39m \u001b[38;5;241m400\u001b[39m:\n",
      "File \u001b[1;32m~\\miniconda3\\envs\\py3.8\\lib\\site-packages\\requests\\sessions.py:587\u001b[0m, in \u001b[0;36mSession.request\u001b[1;34m(self, method, url, params, data, headers, cookies, files, auth, timeout, allow_redirects, proxies, hooks, stream, verify, cert, json)\u001b[0m\n\u001b[0;32m    582\u001b[0m send_kwargs \u001b[38;5;241m=\u001b[39m {\n\u001b[0;32m    583\u001b[0m     \u001b[38;5;124m\"\u001b[39m\u001b[38;5;124mtimeout\u001b[39m\u001b[38;5;124m\"\u001b[39m: timeout,\n\u001b[0;32m    584\u001b[0m     \u001b[38;5;124m\"\u001b[39m\u001b[38;5;124mallow_redirects\u001b[39m\u001b[38;5;124m\"\u001b[39m: allow_redirects,\n\u001b[0;32m    585\u001b[0m }\n\u001b[0;32m    586\u001b[0m send_kwargs\u001b[38;5;241m.\u001b[39mupdate(settings)\n\u001b[1;32m--> 587\u001b[0m resp \u001b[38;5;241m=\u001b[39m \u001b[38;5;28;43mself\u001b[39;49m\u001b[38;5;241;43m.\u001b[39;49m\u001b[43msend\u001b[49m\u001b[43m(\u001b[49m\u001b[43mprep\u001b[49m\u001b[43m,\u001b[49m\u001b[43m \u001b[49m\u001b[38;5;241;43m*\u001b[39;49m\u001b[38;5;241;43m*\u001b[39;49m\u001b[43msend_kwargs\u001b[49m\u001b[43m)\u001b[49m\n\u001b[0;32m    589\u001b[0m \u001b[38;5;28;01mreturn\u001b[39;00m resp\n",
      "File \u001b[1;32m~\\miniconda3\\envs\\py3.8\\lib\\site-packages\\requests\\sessions.py:701\u001b[0m, in \u001b[0;36mSession.send\u001b[1;34m(self, request, **kwargs)\u001b[0m\n\u001b[0;32m    698\u001b[0m start \u001b[38;5;241m=\u001b[39m preferred_clock()\n\u001b[0;32m    700\u001b[0m \u001b[38;5;66;03m# Send the request\u001b[39;00m\n\u001b[1;32m--> 701\u001b[0m r \u001b[38;5;241m=\u001b[39m \u001b[43madapter\u001b[49m\u001b[38;5;241;43m.\u001b[39;49m\u001b[43msend\u001b[49m\u001b[43m(\u001b[49m\u001b[43mrequest\u001b[49m\u001b[43m,\u001b[49m\u001b[43m \u001b[49m\u001b[38;5;241;43m*\u001b[39;49m\u001b[38;5;241;43m*\u001b[39;49m\u001b[43mkwargs\u001b[49m\u001b[43m)\u001b[49m\n\u001b[0;32m    703\u001b[0m \u001b[38;5;66;03m# Total elapsed time of the request (approximately)\u001b[39;00m\n\u001b[0;32m    704\u001b[0m elapsed \u001b[38;5;241m=\u001b[39m preferred_clock() \u001b[38;5;241m-\u001b[39m start\n",
      "File \u001b[1;32m~\\miniconda3\\envs\\py3.8\\lib\\site-packages\\requests\\adapters.py:489\u001b[0m, in \u001b[0;36mHTTPAdapter.send\u001b[1;34m(self, request, stream, timeout, verify, cert, proxies)\u001b[0m\n\u001b[0;32m    487\u001b[0m \u001b[38;5;28;01mtry\u001b[39;00m:\n\u001b[0;32m    488\u001b[0m     \u001b[38;5;28;01mif\u001b[39;00m \u001b[38;5;129;01mnot\u001b[39;00m chunked:\n\u001b[1;32m--> 489\u001b[0m         resp \u001b[38;5;241m=\u001b[39m \u001b[43mconn\u001b[49m\u001b[38;5;241;43m.\u001b[39;49m\u001b[43murlopen\u001b[49m\u001b[43m(\u001b[49m\n\u001b[0;32m    490\u001b[0m \u001b[43m            \u001b[49m\u001b[43mmethod\u001b[49m\u001b[38;5;241;43m=\u001b[39;49m\u001b[43mrequest\u001b[49m\u001b[38;5;241;43m.\u001b[39;49m\u001b[43mmethod\u001b[49m\u001b[43m,\u001b[49m\n\u001b[0;32m    491\u001b[0m \u001b[43m            \u001b[49m\u001b[43murl\u001b[49m\u001b[38;5;241;43m=\u001b[39;49m\u001b[43murl\u001b[49m\u001b[43m,\u001b[49m\n\u001b[0;32m    492\u001b[0m \u001b[43m            \u001b[49m\u001b[43mbody\u001b[49m\u001b[38;5;241;43m=\u001b[39;49m\u001b[43mrequest\u001b[49m\u001b[38;5;241;43m.\u001b[39;49m\u001b[43mbody\u001b[49m\u001b[43m,\u001b[49m\n\u001b[0;32m    493\u001b[0m \u001b[43m            \u001b[49m\u001b[43mheaders\u001b[49m\u001b[38;5;241;43m=\u001b[39;49m\u001b[43mrequest\u001b[49m\u001b[38;5;241;43m.\u001b[39;49m\u001b[43mheaders\u001b[49m\u001b[43m,\u001b[49m\n\u001b[0;32m    494\u001b[0m \u001b[43m            \u001b[49m\u001b[43mredirect\u001b[49m\u001b[38;5;241;43m=\u001b[39;49m\u001b[38;5;28;43;01mFalse\u001b[39;49;00m\u001b[43m,\u001b[49m\n\u001b[0;32m    495\u001b[0m \u001b[43m            \u001b[49m\u001b[43massert_same_host\u001b[49m\u001b[38;5;241;43m=\u001b[39;49m\u001b[38;5;28;43;01mFalse\u001b[39;49;00m\u001b[43m,\u001b[49m\n\u001b[0;32m    496\u001b[0m \u001b[43m            \u001b[49m\u001b[43mpreload_content\u001b[49m\u001b[38;5;241;43m=\u001b[39;49m\u001b[38;5;28;43;01mFalse\u001b[39;49;00m\u001b[43m,\u001b[49m\n\u001b[0;32m    497\u001b[0m \u001b[43m            \u001b[49m\u001b[43mdecode_content\u001b[49m\u001b[38;5;241;43m=\u001b[39;49m\u001b[38;5;28;43;01mFalse\u001b[39;49;00m\u001b[43m,\u001b[49m\n\u001b[0;32m    498\u001b[0m \u001b[43m            \u001b[49m\u001b[43mretries\u001b[49m\u001b[38;5;241;43m=\u001b[39;49m\u001b[38;5;28;43mself\u001b[39;49m\u001b[38;5;241;43m.\u001b[39;49m\u001b[43mmax_retries\u001b[49m\u001b[43m,\u001b[49m\n\u001b[0;32m    499\u001b[0m \u001b[43m            \u001b[49m\u001b[43mtimeout\u001b[49m\u001b[38;5;241;43m=\u001b[39;49m\u001b[43mtimeout\u001b[49m\u001b[43m,\u001b[49m\n\u001b[0;32m    500\u001b[0m \u001b[43m        \u001b[49m\u001b[43m)\u001b[49m\n\u001b[0;32m    502\u001b[0m     \u001b[38;5;66;03m# Send the request.\u001b[39;00m\n\u001b[0;32m    503\u001b[0m     \u001b[38;5;28;01melse\u001b[39;00m:\n\u001b[0;32m    504\u001b[0m         \u001b[38;5;28;01mif\u001b[39;00m \u001b[38;5;28mhasattr\u001b[39m(conn, \u001b[38;5;124m\"\u001b[39m\u001b[38;5;124mproxy_pool\u001b[39m\u001b[38;5;124m\"\u001b[39m):\n",
      "File \u001b[1;32m~\\miniconda3\\envs\\py3.8\\lib\\site-packages\\urllib3\\connectionpool.py:703\u001b[0m, in \u001b[0;36mHTTPConnectionPool.urlopen\u001b[1;34m(self, method, url, body, headers, retries, redirect, assert_same_host, timeout, pool_timeout, release_conn, chunked, body_pos, **response_kw)\u001b[0m\n\u001b[0;32m    700\u001b[0m     \u001b[38;5;28mself\u001b[39m\u001b[38;5;241m.\u001b[39m_prepare_proxy(conn)\n\u001b[0;32m    702\u001b[0m \u001b[38;5;66;03m# Make the request on the httplib connection object.\u001b[39;00m\n\u001b[1;32m--> 703\u001b[0m httplib_response \u001b[38;5;241m=\u001b[39m \u001b[38;5;28;43mself\u001b[39;49m\u001b[38;5;241;43m.\u001b[39;49m\u001b[43m_make_request\u001b[49m\u001b[43m(\u001b[49m\n\u001b[0;32m    704\u001b[0m \u001b[43m    \u001b[49m\u001b[43mconn\u001b[49m\u001b[43m,\u001b[49m\n\u001b[0;32m    705\u001b[0m \u001b[43m    \u001b[49m\u001b[43mmethod\u001b[49m\u001b[43m,\u001b[49m\n\u001b[0;32m    706\u001b[0m \u001b[43m    \u001b[49m\u001b[43murl\u001b[49m\u001b[43m,\u001b[49m\n\u001b[0;32m    707\u001b[0m \u001b[43m    \u001b[49m\u001b[43mtimeout\u001b[49m\u001b[38;5;241;43m=\u001b[39;49m\u001b[43mtimeout_obj\u001b[49m\u001b[43m,\u001b[49m\n\u001b[0;32m    708\u001b[0m \u001b[43m    \u001b[49m\u001b[43mbody\u001b[49m\u001b[38;5;241;43m=\u001b[39;49m\u001b[43mbody\u001b[49m\u001b[43m,\u001b[49m\n\u001b[0;32m    709\u001b[0m \u001b[43m    \u001b[49m\u001b[43mheaders\u001b[49m\u001b[38;5;241;43m=\u001b[39;49m\u001b[43mheaders\u001b[49m\u001b[43m,\u001b[49m\n\u001b[0;32m    710\u001b[0m \u001b[43m    \u001b[49m\u001b[43mchunked\u001b[49m\u001b[38;5;241;43m=\u001b[39;49m\u001b[43mchunked\u001b[49m\u001b[43m,\u001b[49m\n\u001b[0;32m    711\u001b[0m \u001b[43m\u001b[49m\u001b[43m)\u001b[49m\n\u001b[0;32m    713\u001b[0m \u001b[38;5;66;03m# If we're going to release the connection in ``finally:``, then\u001b[39;00m\n\u001b[0;32m    714\u001b[0m \u001b[38;5;66;03m# the response doesn't need to know about the connection. Otherwise\u001b[39;00m\n\u001b[0;32m    715\u001b[0m \u001b[38;5;66;03m# it will also try to release it and we'll have a double-release\u001b[39;00m\n\u001b[0;32m    716\u001b[0m \u001b[38;5;66;03m# mess.\u001b[39;00m\n\u001b[0;32m    717\u001b[0m response_conn \u001b[38;5;241m=\u001b[39m conn \u001b[38;5;28;01mif\u001b[39;00m \u001b[38;5;129;01mnot\u001b[39;00m release_conn \u001b[38;5;28;01melse\u001b[39;00m \u001b[38;5;28;01mNone\u001b[39;00m\n",
      "File \u001b[1;32m~\\miniconda3\\envs\\py3.8\\lib\\site-packages\\urllib3\\connectionpool.py:449\u001b[0m, in \u001b[0;36mHTTPConnectionPool._make_request\u001b[1;34m(self, conn, method, url, timeout, chunked, **httplib_request_kw)\u001b[0m\n\u001b[0;32m    444\u001b[0m             httplib_response \u001b[38;5;241m=\u001b[39m conn\u001b[38;5;241m.\u001b[39mgetresponse()\n\u001b[0;32m    445\u001b[0m         \u001b[38;5;28;01mexcept\u001b[39;00m \u001b[38;5;167;01mBaseException\u001b[39;00m \u001b[38;5;28;01mas\u001b[39;00m e:\n\u001b[0;32m    446\u001b[0m             \u001b[38;5;66;03m# Remove the TypeError from the exception chain in\u001b[39;00m\n\u001b[0;32m    447\u001b[0m             \u001b[38;5;66;03m# Python 3 (including for exceptions like SystemExit).\u001b[39;00m\n\u001b[0;32m    448\u001b[0m             \u001b[38;5;66;03m# Otherwise it looks like a bug in the code.\u001b[39;00m\n\u001b[1;32m--> 449\u001b[0m             \u001b[43msix\u001b[49m\u001b[38;5;241;43m.\u001b[39;49m\u001b[43mraise_from\u001b[49m\u001b[43m(\u001b[49m\u001b[43me\u001b[49m\u001b[43m,\u001b[49m\u001b[43m \u001b[49m\u001b[38;5;28;43;01mNone\u001b[39;49;00m\u001b[43m)\u001b[49m\n\u001b[0;32m    450\u001b[0m \u001b[38;5;28;01mexcept\u001b[39;00m (SocketTimeout, BaseSSLError, SocketError) \u001b[38;5;28;01mas\u001b[39;00m e:\n\u001b[0;32m    451\u001b[0m     \u001b[38;5;28mself\u001b[39m\u001b[38;5;241m.\u001b[39m_raise_timeout(err\u001b[38;5;241m=\u001b[39me, url\u001b[38;5;241m=\u001b[39murl, timeout_value\u001b[38;5;241m=\u001b[39mread_timeout)\n",
      "File \u001b[1;32m<string>:3\u001b[0m, in \u001b[0;36mraise_from\u001b[1;34m(value, from_value)\u001b[0m\n",
      "File \u001b[1;32m~\\miniconda3\\envs\\py3.8\\lib\\site-packages\\urllib3\\connectionpool.py:444\u001b[0m, in \u001b[0;36mHTTPConnectionPool._make_request\u001b[1;34m(self, conn, method, url, timeout, chunked, **httplib_request_kw)\u001b[0m\n\u001b[0;32m    441\u001b[0m \u001b[38;5;28;01mexcept\u001b[39;00m \u001b[38;5;167;01mTypeError\u001b[39;00m:\n\u001b[0;32m    442\u001b[0m     \u001b[38;5;66;03m# Python 3\u001b[39;00m\n\u001b[0;32m    443\u001b[0m     \u001b[38;5;28;01mtry\u001b[39;00m:\n\u001b[1;32m--> 444\u001b[0m         httplib_response \u001b[38;5;241m=\u001b[39m \u001b[43mconn\u001b[49m\u001b[38;5;241;43m.\u001b[39;49m\u001b[43mgetresponse\u001b[49m\u001b[43m(\u001b[49m\u001b[43m)\u001b[49m\n\u001b[0;32m    445\u001b[0m     \u001b[38;5;28;01mexcept\u001b[39;00m \u001b[38;5;167;01mBaseException\u001b[39;00m \u001b[38;5;28;01mas\u001b[39;00m e:\n\u001b[0;32m    446\u001b[0m         \u001b[38;5;66;03m# Remove the TypeError from the exception chain in\u001b[39;00m\n\u001b[0;32m    447\u001b[0m         \u001b[38;5;66;03m# Python 3 (including for exceptions like SystemExit).\u001b[39;00m\n\u001b[0;32m    448\u001b[0m         \u001b[38;5;66;03m# Otherwise it looks like a bug in the code.\u001b[39;00m\n\u001b[0;32m    449\u001b[0m         six\u001b[38;5;241m.\u001b[39mraise_from(e, \u001b[38;5;28;01mNone\u001b[39;00m)\n",
      "File \u001b[1;32m~\\miniconda3\\envs\\py3.8\\lib\\http\\client.py:1348\u001b[0m, in \u001b[0;36mHTTPConnection.getresponse\u001b[1;34m(self)\u001b[0m\n\u001b[0;32m   1346\u001b[0m \u001b[38;5;28;01mtry\u001b[39;00m:\n\u001b[0;32m   1347\u001b[0m     \u001b[38;5;28;01mtry\u001b[39;00m:\n\u001b[1;32m-> 1348\u001b[0m         \u001b[43mresponse\u001b[49m\u001b[38;5;241;43m.\u001b[39;49m\u001b[43mbegin\u001b[49m\u001b[43m(\u001b[49m\u001b[43m)\u001b[49m\n\u001b[0;32m   1349\u001b[0m     \u001b[38;5;28;01mexcept\u001b[39;00m \u001b[38;5;167;01mConnectionError\u001b[39;00m:\n\u001b[0;32m   1350\u001b[0m         \u001b[38;5;28mself\u001b[39m\u001b[38;5;241m.\u001b[39mclose()\n",
      "File \u001b[1;32m~\\miniconda3\\envs\\py3.8\\lib\\http\\client.py:316\u001b[0m, in \u001b[0;36mHTTPResponse.begin\u001b[1;34m(self)\u001b[0m\n\u001b[0;32m    314\u001b[0m \u001b[38;5;66;03m# read until we get a non-100 response\u001b[39;00m\n\u001b[0;32m    315\u001b[0m \u001b[38;5;28;01mwhile\u001b[39;00m \u001b[38;5;28;01mTrue\u001b[39;00m:\n\u001b[1;32m--> 316\u001b[0m     version, status, reason \u001b[38;5;241m=\u001b[39m \u001b[38;5;28;43mself\u001b[39;49m\u001b[38;5;241;43m.\u001b[39;49m\u001b[43m_read_status\u001b[49m\u001b[43m(\u001b[49m\u001b[43m)\u001b[49m\n\u001b[0;32m    317\u001b[0m     \u001b[38;5;28;01mif\u001b[39;00m status \u001b[38;5;241m!=\u001b[39m CONTINUE:\n\u001b[0;32m    318\u001b[0m         \u001b[38;5;28;01mbreak\u001b[39;00m\n",
      "File \u001b[1;32m~\\miniconda3\\envs\\py3.8\\lib\\http\\client.py:277\u001b[0m, in \u001b[0;36mHTTPResponse._read_status\u001b[1;34m(self)\u001b[0m\n\u001b[0;32m    276\u001b[0m \u001b[38;5;28;01mdef\u001b[39;00m \u001b[38;5;21m_read_status\u001b[39m(\u001b[38;5;28mself\u001b[39m):\n\u001b[1;32m--> 277\u001b[0m     line \u001b[38;5;241m=\u001b[39m \u001b[38;5;28mstr\u001b[39m(\u001b[38;5;28;43mself\u001b[39;49m\u001b[38;5;241;43m.\u001b[39;49m\u001b[43mfp\u001b[49m\u001b[38;5;241;43m.\u001b[39;49m\u001b[43mreadline\u001b[49m\u001b[43m(\u001b[49m\u001b[43m_MAXLINE\u001b[49m\u001b[43m \u001b[49m\u001b[38;5;241;43m+\u001b[39;49m\u001b[43m \u001b[49m\u001b[38;5;241;43m1\u001b[39;49m\u001b[43m)\u001b[49m, \u001b[38;5;124m\"\u001b[39m\u001b[38;5;124miso-8859-1\u001b[39m\u001b[38;5;124m\"\u001b[39m)\n\u001b[0;32m    278\u001b[0m     \u001b[38;5;28;01mif\u001b[39;00m \u001b[38;5;28mlen\u001b[39m(line) \u001b[38;5;241m>\u001b[39m _MAXLINE:\n\u001b[0;32m    279\u001b[0m         \u001b[38;5;28;01mraise\u001b[39;00m LineTooLong(\u001b[38;5;124m\"\u001b[39m\u001b[38;5;124mstatus line\u001b[39m\u001b[38;5;124m\"\u001b[39m)\n",
      "File \u001b[1;32m~\\miniconda3\\envs\\py3.8\\lib\\socket.py:669\u001b[0m, in \u001b[0;36mSocketIO.readinto\u001b[1;34m(self, b)\u001b[0m\n\u001b[0;32m    667\u001b[0m \u001b[38;5;28;01mwhile\u001b[39;00m \u001b[38;5;28;01mTrue\u001b[39;00m:\n\u001b[0;32m    668\u001b[0m     \u001b[38;5;28;01mtry\u001b[39;00m:\n\u001b[1;32m--> 669\u001b[0m         \u001b[38;5;28;01mreturn\u001b[39;00m \u001b[38;5;28;43mself\u001b[39;49m\u001b[38;5;241;43m.\u001b[39;49m\u001b[43m_sock\u001b[49m\u001b[38;5;241;43m.\u001b[39;49m\u001b[43mrecv_into\u001b[49m\u001b[43m(\u001b[49m\u001b[43mb\u001b[49m\u001b[43m)\u001b[49m\n\u001b[0;32m    670\u001b[0m     \u001b[38;5;28;01mexcept\u001b[39;00m timeout:\n\u001b[0;32m    671\u001b[0m         \u001b[38;5;28mself\u001b[39m\u001b[38;5;241m.\u001b[39m_timeout_occurred \u001b[38;5;241m=\u001b[39m \u001b[38;5;28;01mTrue\u001b[39;00m\n",
      "File \u001b[1;32m~\\miniconda3\\envs\\py3.8\\lib\\ssl.py:1241\u001b[0m, in \u001b[0;36mSSLSocket.recv_into\u001b[1;34m(self, buffer, nbytes, flags)\u001b[0m\n\u001b[0;32m   1237\u001b[0m     \u001b[38;5;28;01mif\u001b[39;00m flags \u001b[38;5;241m!=\u001b[39m \u001b[38;5;241m0\u001b[39m:\n\u001b[0;32m   1238\u001b[0m         \u001b[38;5;28;01mraise\u001b[39;00m \u001b[38;5;167;01mValueError\u001b[39;00m(\n\u001b[0;32m   1239\u001b[0m           \u001b[38;5;124m\"\u001b[39m\u001b[38;5;124mnon-zero flags not allowed in calls to recv_into() on \u001b[39m\u001b[38;5;132;01m%s\u001b[39;00m\u001b[38;5;124m\"\u001b[39m \u001b[38;5;241m%\u001b[39m\n\u001b[0;32m   1240\u001b[0m           \u001b[38;5;28mself\u001b[39m\u001b[38;5;241m.\u001b[39m\u001b[38;5;18m__class__\u001b[39m)\n\u001b[1;32m-> 1241\u001b[0m     \u001b[38;5;28;01mreturn\u001b[39;00m \u001b[38;5;28;43mself\u001b[39;49m\u001b[38;5;241;43m.\u001b[39;49m\u001b[43mread\u001b[49m\u001b[43m(\u001b[49m\u001b[43mnbytes\u001b[49m\u001b[43m,\u001b[49m\u001b[43m \u001b[49m\u001b[43mbuffer\u001b[49m\u001b[43m)\u001b[49m\n\u001b[0;32m   1242\u001b[0m \u001b[38;5;28;01melse\u001b[39;00m:\n\u001b[0;32m   1243\u001b[0m     \u001b[38;5;28;01mreturn\u001b[39;00m \u001b[38;5;28msuper\u001b[39m()\u001b[38;5;241m.\u001b[39mrecv_into(buffer, nbytes, flags)\n",
      "File \u001b[1;32m~\\miniconda3\\envs\\py3.8\\lib\\ssl.py:1099\u001b[0m, in \u001b[0;36mSSLSocket.read\u001b[1;34m(self, len, buffer)\u001b[0m\n\u001b[0;32m   1097\u001b[0m \u001b[38;5;28;01mtry\u001b[39;00m:\n\u001b[0;32m   1098\u001b[0m     \u001b[38;5;28;01mif\u001b[39;00m buffer \u001b[38;5;129;01mis\u001b[39;00m \u001b[38;5;129;01mnot\u001b[39;00m \u001b[38;5;28;01mNone\u001b[39;00m:\n\u001b[1;32m-> 1099\u001b[0m         \u001b[38;5;28;01mreturn\u001b[39;00m \u001b[38;5;28;43mself\u001b[39;49m\u001b[38;5;241;43m.\u001b[39;49m\u001b[43m_sslobj\u001b[49m\u001b[38;5;241;43m.\u001b[39;49m\u001b[43mread\u001b[49m\u001b[43m(\u001b[49m\u001b[38;5;28;43mlen\u001b[39;49m\u001b[43m,\u001b[49m\u001b[43m \u001b[49m\u001b[43mbuffer\u001b[49m\u001b[43m)\u001b[49m\n\u001b[0;32m   1100\u001b[0m     \u001b[38;5;28;01melse\u001b[39;00m:\n\u001b[0;32m   1101\u001b[0m         \u001b[38;5;28;01mreturn\u001b[39;00m \u001b[38;5;28mself\u001b[39m\u001b[38;5;241m.\u001b[39m_sslobj\u001b[38;5;241m.\u001b[39mread(\u001b[38;5;28mlen\u001b[39m)\n",
      "\u001b[1;31mKeyboardInterrupt\u001b[0m: "
     ]
    }
   ],
   "source": [
    "query = ['#Rutgers #RU']\n",
    "start_time ='2017-01-01T00:00:00Z'\n",
    "end_time = '2022-04-01T00:00:00Z'\n",
    "data = []\n",
    "for response in tweepy.Paginator(client.search_all_tweets, query=query, start_time=start_time, end_time=end_time, max_results=500):\n",
    "    try:\n",
    "        data.append(response)\n",
    "        time.sleep(2)\n",
    "    except tweepy.errors.TooManyRequests:\n",
    "        print('too many requests')\n",
    "        time.sleep(5)"
   ]
  },
  {
   "cell_type": "code",
   "execution_count": 111,
   "id": "5a5dbf0f-91dc-44c5-81f3-3299a8342aec",
   "metadata": {},
   "outputs": [
    {
     "data": {
      "text/plain": [
       "6"
      ]
     },
     "execution_count": 111,
     "metadata": {},
     "output_type": "execute_result"
    }
   ],
   "source": [
    "len(data)"
   ]
  },
  {
   "cell_type": "code",
   "execution_count": 93,
   "id": "6aea88dd-9c52-4ace-bd2b-2000391668db",
   "metadata": {},
   "outputs": [
    {
     "data": {
      "text/plain": [
       "<function generator.throw>"
      ]
     },
     "execution_count": 93,
     "metadata": {},
     "output_type": "execute_result"
    }
   ],
   "source": [
    "data"
   ]
  },
  {
   "cell_type": "code",
   "execution_count": 92,
   "id": "40625667-4221-4a79-9d07-c910a4ad72af",
   "metadata": {},
   "outputs": [
    {
     "data": {
      "text/plain": [
       "<function generator.send>"
      ]
     },
     "execution_count": 92,
     "metadata": {},
     "output_type": "execute_result"
    }
   ],
   "source": [
    "a"
   ]
  },
  {
   "cell_type": "code",
   "execution_count": null,
   "id": "322bd83e-1a24-4825-be21-33923759710f",
   "metadata": {},
   "outputs": [],
   "source": []
  }
 ],
 "metadata": {
  "kernelspec": {
   "display_name": "Python 3 (ipykernel)",
   "language": "python",
   "name": "python3"
  },
  "language_info": {
   "codemirror_mode": {
    "name": "ipython",
    "version": 3
   },
   "file_extension": ".py",
   "mimetype": "text/x-python",
   "name": "python",
   "nbconvert_exporter": "python",
   "pygments_lexer": "ipython3",
   "version": "3.8.13"
  }
 },
 "nbformat": 4,
 "nbformat_minor": 5
}
