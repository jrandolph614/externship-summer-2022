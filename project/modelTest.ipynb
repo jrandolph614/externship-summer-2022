{
 "cells": [
  {
   "cell_type": "code",
   "execution_count": 8,
   "id": "d920d390-bf45-4ee1-8706-392f8714abc8",
   "metadata": {},
   "outputs": [
    {
     "data": {
      "text/html": [
       "<div>\n",
       "<style scoped>\n",
       "    .dataframe tbody tr th:only-of-type {\n",
       "        vertical-align: middle;\n",
       "    }\n",
       "\n",
       "    .dataframe tbody tr th {\n",
       "        vertical-align: top;\n",
       "    }\n",
       "\n",
       "    .dataframe thead th {\n",
       "        text-align: right;\n",
       "    }\n",
       "</style>\n",
       "<table border=\"1\" class=\"dataframe\">\n",
       "  <thead>\n",
       "    <tr style=\"text-align: right;\">\n",
       "      <th></th>\n",
       "      <th>tweet</th>\n",
       "      <th>SUSPICIOUS</th>\n",
       "    </tr>\n",
       "  </thead>\n",
       "  <tbody>\n",
       "    <tr>\n",
       "      <th>0</th>\n",
       "      <td>rt @_just__v: available for romantic appointme...</td>\n",
       "      <td>1</td>\n",
       "    </tr>\n",
       "    <tr>\n",
       "      <th>1</th>\n",
       "      <td>requiring a #mature dinner companion in #orlan...</td>\n",
       "      <td>1</td>\n",
       "    </tr>\n",
       "    <tr>\n",
       "      <th>2</th>\n",
       "      <td>wanting to plan a sensual escape in #orlando? ...</td>\n",
       "      <td>1</td>\n",
       "    </tr>\n",
       "    <tr>\n",
       "      <th>3</th>\n",
       "      <td>Ã°ÂŸÂ“Â£well, now am i not only open for inqui...</td>\n",
       "      <td>1</td>\n",
       "    </tr>\n",
       "    <tr>\n",
       "      <th>4</th>\n",
       "      <td>#orlando #florida &amp;amp; surrounding cities. \\n...</td>\n",
       "      <td>0</td>\n",
       "    </tr>\n",
       "  </tbody>\n",
       "</table>\n",
       "</div>"
      ],
      "text/plain": [
       "                                               tweet  SUSPICIOUS\n",
       "0  rt @_just__v: available for romantic appointme...           1\n",
       "1  requiring a #mature dinner companion in #orlan...           1\n",
       "2  wanting to plan a sensual escape in #orlando? ...           1\n",
       "3  Ã°ÂŸÂ“Â£well, now am i not only open for inqui...           1\n",
       "4  #orlando #florida &amp; surrounding cities. \\n...           0"
      ]
     },
     "execution_count": 8,
     "metadata": {},
     "output_type": "execute_result"
    }
   ],
   "source": [
    "import pandas as pd\n",
    "import numpy as np\n",
    "import nltk \n",
    "import re\n",
    "from nltk import word_tokenize\n",
    "from nltk.corpus import stopwords\n",
    "from nltk.stem.porter import PorterStemmer\n",
    "from nltk.stem import WordNetLemmatizer\n",
    "import joblib\n",
    "from sklearn.metrics import classification_report, confusion_matrix\n",
    "from sklearn.svm import SVC\n",
    "from sklearn.model_selection import train_test_split, GridSearchCV\n",
    "stop_words = stopwords.words('english')\n",
    "#import sklearn\n",
    "file = 'data/EscortDataLabelAll.csv'\n",
    "df = pd.read_csv(file)\n",
    "data = df[['tweet','SUSPICIOUS']].copy()\n",
    "data.head()"
   ]
  },
  {
   "cell_type": "code",
   "execution_count": 9,
   "id": "1822e94a-0276-4f72-b6e9-36ab77bdfef8",
   "metadata": {},
   "outputs": [],
   "source": [
    "#functions\n",
    "def clean_text(df):\n",
    "    df['clean_text'] = df['tweet'].apply(lambda elem: re.sub(r\"(@[A-Za-z0-9]+)|([^0-9A-Za-z \\t])|(\\w+:\\/\\/\\S+)|^rt|http.+?\", \"\", elem))\n",
    "    return df\n",
    "def tokenize(row):\n",
    "    res = word_tokenize(row['clean_text'])\n",
    "    return res\n",
    "def stop_word_filtering(row):\n",
    "    res = [word for word in row['token'] if word not in stop_words]\n",
    "    return res\n",
    "def lemmatizer(row):   \n",
    "    res = [WordNetLemmatizer().lemmatize(word=word) for word in row['token'] ]\n",
    "    return res\n",
    "def rejoin(row):\n",
    "    res = ''\n",
    "    for i in row['lement']:\n",
    "        res+=i\n",
    "        res+=' '\n",
    "    return res"
   ]
  },
  {
   "cell_type": "code",
   "execution_count": 10,
   "id": "b69317d6-239f-4239-b1c7-d3f64fa9ffd0",
   "metadata": {},
   "outputs": [],
   "source": [
    "#load models\n",
    "grid = joblib.load('models/model.pkl')\n",
    "vectorizer = joblib.load('models/vectorizer.pkl')"
   ]
  },
  {
   "cell_type": "code",
   "execution_count": 11,
   "id": "66e5ccc2-0e1c-44b1-ba89-f8b91a62ae9c",
   "metadata": {},
   "outputs": [],
   "source": [
    "data = clean_text(data)\n",
    "data['token']=data.apply(tokenize,axis=1)\n",
    "data['token']=data.apply(stop_word_filtering,axis=1)\n",
    "data['lement']=data.apply(lemmatizer,axis=1)\n",
    "data['final'] = data.apply(rejoin,axis=1)\n",
    "X = vectorizer.transform(data['final'])\n",
    "data['tfidf']=X.toarray().tolist()\n",
    "y = list(data['SUSPICIOUS'])"
   ]
  },
  {
   "cell_type": "code",
   "execution_count": 23,
   "id": "7b90bd27-d3d4-4d83-a02b-5afe46362427",
   "metadata": {},
   "outputs": [],
   "source": [
    "X_train, X_test,y_train, y_test = train_test_split(X,y,test_size=.2, random_state=42)"
   ]
  },
  {
   "cell_type": "code",
   "execution_count": 24,
   "id": "47b3e477-ade4-49ef-a3c8-56368489fddf",
   "metadata": {},
   "outputs": [
    {
     "name": "stdout",
     "output_type": "stream",
     "text": [
      "{'C': 10, 'gamma': 1, 'kernel': 'linear'}\n",
      "SVC(C=10, gamma=1, kernel='linear')\n"
     ]
    }
   ],
   "source": [
    "print(grid.best_params_)\n",
    "print(grid.best_estimator_)"
   ]
  },
  {
   "cell_type": "code",
   "execution_count": 25,
   "id": "c650ad23-e874-4f53-a85d-a91d8df4e82f",
   "metadata": {},
   "outputs": [
    {
     "name": "stdout",
     "output_type": "stream",
     "text": [
      "              precision    recall  f1-score   support\n",
      "\n",
      "           0       0.98      0.73      0.84        64\n",
      "           1       0.96      1.00      0.98       381\n",
      "\n",
      "    accuracy                           0.96       445\n",
      "   macro avg       0.97      0.87      0.91       445\n",
      "weighted avg       0.96      0.96      0.96       445\n",
      "\n"
     ]
    }
   ],
   "source": [
    "grid_pred = grid.predict(X_test)\n",
    "print(classification_report(y_test,grid_pred))"
   ]
  },
  {
   "cell_type": "code",
   "execution_count": null,
   "id": "3f5e70c0-59c4-48d4-a41a-1d0ab12b1b54",
   "metadata": {},
   "outputs": [],
   "source": []
  }
 ],
 "metadata": {
  "kernelspec": {
   "display_name": "Python 3 (ipykernel)",
   "language": "python",
   "name": "python3"
  },
  "language_info": {
   "codemirror_mode": {
    "name": "ipython",
    "version": 3
   },
   "file_extension": ".py",
   "mimetype": "text/x-python",
   "name": "python",
   "nbconvert_exporter": "python",
   "pygments_lexer": "ipython3",
   "version": "3.8.13"
  }
 },
 "nbformat": 4,
 "nbformat_minor": 5
}
